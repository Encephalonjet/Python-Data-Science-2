{
 "cells": [
  {
   "cell_type": "markdown",
   "id": "03b4a674",
   "metadata": {},
   "source": [
    "# Session 1\n",
    "- Data Science and Machine Learning"
   ]
  },
  {
   "cell_type": "markdown",
   "id": "b1de4875",
   "metadata": {},
   "source": [
    "### Introduction to Python\n",
    "\n",
    "Python is a computer programming language often used to build  **websites and software, automate tasks, and conduct data analysis.**"
   ]
  },
  {
   "cell_type": "code",
   "execution_count": 1,
   "id": "c0438bb8",
   "metadata": {},
   "outputs": [
    {
     "name": "stdout",
     "output_type": "stream",
     "text": [
      "Hello, world!\n"
     ]
    },
    {
     "data": {
      "text/plain": [
       "''"
      ]
     },
     "execution_count": 1,
     "metadata": {},
     "output_type": "execute_result"
    }
   ],
   "source": [
    "# printing\n",
    "print(\"Hello, world!\")\n",
    "\n",
    "# commenting\n",
    "#\n",
    "\"\"\"\"\"\"\n",
    "\n",
    "# inbuilt fuctions like print, help, dir, len, sum"
   ]
  },
  {
   "cell_type": "code",
   "execution_count": 2,
   "id": "0944d565",
   "metadata": {},
   "outputs": [
    {
     "name": "stdout",
     "output_type": "stream",
     "text": [
      "Hello, world!\n",
      "Olalekan Kolaru\n"
     ]
    }
   ],
   "source": [
    "# print\n",
    "\n",
    "print(\"Hello, world!\")\n",
    "print(\"Olalekan Kolaru\")"
   ]
  },
  {
   "cell_type": "code",
   "execution_count": 3,
   "id": "ff456ddd",
   "metadata": {},
   "outputs": [],
   "source": [
    "# help()"
   ]
  },
  {
   "cell_type": "markdown",
   "id": "2bd41bdf",
   "metadata": {},
   "source": [
    "## Basic Arithmetic\n",
    "The basic arithmetic operations for real numbers are addition, subtraction, multiplication, and division\n",
    "\n",
    "|Operation                |Symbol                          |Example                         |\n",
    "|----------------|-------------------------------|-----------------------------|\n",
    "|Addition\t|+\t|1 + 2 = 3            \n",
    "|Subtraction\t|-|\t5 - 4 = 1\n",
    "|Multiplication\t|*|\t2 * 4 = 8\n",
    "|Division\t|/|\t6 / 3 = 2\n",
    "Exponent|\t**\t|3 ** 2 = 9"
   ]
  },
  {
   "cell_type": "code",
   "execution_count": null,
   "id": "d8fdf94f",
   "metadata": {},
   "outputs": [],
   "source": []
  },
  {
   "cell_type": "code",
   "execution_count": 4,
   "id": "8d86a076",
   "metadata": {},
   "outputs": [
    {
     "name": "stdout",
     "output_type": "stream",
     "text": [
      "4\n",
      "6\n"
     ]
    }
   ],
   "source": [
    "# Addition\n",
    "print(2 + 2)\n",
    "\n",
    "\n",
    "print(2 + 4)"
   ]
  },
  {
   "cell_type": "code",
   "execution_count": 5,
   "id": "889d5f43",
   "metadata": {},
   "outputs": [
    {
     "name": "stdout",
     "output_type": "stream",
     "text": [
      "1\n"
     ]
    }
   ],
   "source": [
    "# Subtraction\n",
    "print(6 - 5)"
   ]
  },
  {
   "cell_type": "code",
   "execution_count": 6,
   "id": "8bddc535",
   "metadata": {},
   "outputs": [
    {
     "name": "stdout",
     "output_type": "stream",
     "text": [
      "60\n"
     ]
    }
   ],
   "source": [
    "# Multiplication\n",
    "print(20 * 3)"
   ]
  },
  {
   "cell_type": "code",
   "execution_count": 7,
   "id": "dc8e19d5",
   "metadata": {},
   "outputs": [
    {
     "name": "stdout",
     "output_type": "stream",
     "text": [
      "2.0\n"
     ]
    }
   ],
   "source": [
    "# Division\n",
    "print(30 / 15)"
   ]
  },
  {
   "cell_type": "code",
   "execution_count": 8,
   "id": "1fe40827",
   "metadata": {},
   "outputs": [
    {
     "name": "stdout",
     "output_type": "stream",
     "text": [
      "2\n"
     ]
    }
   ],
   "source": [
    "# Floor Division\n",
    "print(14 // 5)"
   ]
  },
  {
   "cell_type": "code",
   "execution_count": 9,
   "id": "1363c1cc",
   "metadata": {},
   "outputs": [
    {
     "data": {
      "text/plain": [
       "4"
      ]
     },
     "execution_count": 9,
     "metadata": {},
     "output_type": "execute_result"
    }
   ],
   "source": [
    "# Modulo - To get the reminder\n",
    "14 % 5"
   ]
  },
  {
   "cell_type": "code",
   "execution_count": 10,
   "id": "0664fb37",
   "metadata": {},
   "outputs": [
    {
     "data": {
      "text/plain": [
       "8"
      ]
     },
     "execution_count": 10,
     "metadata": {},
     "output_type": "execute_result"
    }
   ],
   "source": [
    "# Raised to Power\n",
    "2 ** 3"
   ]
  },
  {
   "cell_type": "code",
   "execution_count": 11,
   "id": "ec10574b",
   "metadata": {},
   "outputs": [
    {
     "data": {
      "text/plain": [
       "1.4142135623730951"
      ]
     },
     "execution_count": 11,
     "metadata": {},
     "output_type": "execute_result"
    }
   ],
   "source": [
    "# Square-root\n",
    "2 ** (1/2)"
   ]
  },
  {
   "cell_type": "code",
   "execution_count": 12,
   "id": "82fcb196",
   "metadata": {},
   "outputs": [
    {
     "data": {
      "text/plain": [
       "11.6"
      ]
     },
     "execution_count": 12,
     "metadata": {},
     "output_type": "execute_result"
    }
   ],
   "source": [
    "# Order of Operation - BODMAS\n",
    "(10 + 25 - 6) / (0.5*5)"
   ]
  },
  {
   "cell_type": "markdown",
   "id": "4af8487a",
   "metadata": {},
   "source": [
    "## Variable Assignment\n",
    "\n",
    "Variables can store **data of different types** \n",
    "\n",
    "- Integer - 1,2,3,4\n",
    "- float \t- 4.5\n",
    "- String - 'alphabet' & 'text'\n",
    "- bool - True or False\n",
    "- list - [Mango, Orange, Banana, Pineapple, Mango]\n",
    "- dict - { Key: Value, Name: Damilola}\n",
    "- set - (Orange, Banana, Pineapple, Mango)\n",
    "- tuple "
   ]
  },
  {
   "cell_type": "code",
   "execution_count": 13,
   "id": "03980e94",
   "metadata": {},
   "outputs": [],
   "source": [
    "#Dont start with a number\n",
    "#Dont start with special characters\n",
    "#NO SPACE\n",
    "\n",
    "# Creating variables\n",
    "# Manipulating variables\n",
    "\n",
    "firstname = 'Damilola'\n",
    "\n",
    "surname = \"Emmanuel\"\n",
    "\n",
    "age = 25\n",
    "\n",
    "account_balance = 7800.19\n",
    "\n",
    "tax_rate = 5/100\n",
    "\n",
    "tax_amount = account_balance * tax_rate\n",
    "\n",
    "married = True , False"
   ]
  },
  {
   "cell_type": "code",
   "execution_count": 14,
   "id": "46d12b93",
   "metadata": {},
   "outputs": [
    {
     "name": "stdout",
     "output_type": "stream",
     "text": [
      "Damilola\n",
      "25\n",
      "7800.19\n"
     ]
    }
   ],
   "source": [
    "print(firstname)\n",
    "print(age)\n",
    "print(account_balance)"
   ]
  },
  {
   "cell_type": "code",
   "execution_count": 15,
   "id": "a63002a4",
   "metadata": {},
   "outputs": [],
   "source": [
    "tax_amount = account_balance * tax_rate"
   ]
  },
  {
   "cell_type": "code",
   "execution_count": 16,
   "id": "93e12152",
   "metadata": {},
   "outputs": [
    {
     "data": {
      "text/plain": [
       "'Damilola Emmanuel'"
      ]
     },
     "execution_count": 16,
     "metadata": {},
     "output_type": "execute_result"
    }
   ],
   "source": [
    "firstname + ' ' + surname"
   ]
  },
  {
   "cell_type": "code",
   "execution_count": 17,
   "id": "68bee69c",
   "metadata": {},
   "outputs": [
    {
     "data": {
      "text/plain": [
       "'DamilolaDamilolaDamilolaDamilolaDamilola'"
      ]
     },
     "execution_count": 17,
     "metadata": {},
     "output_type": "execute_result"
    }
   ],
   "source": [
    "firstname * 5"
   ]
  },
  {
   "cell_type": "code",
   "execution_count": 18,
   "id": "03f868b2",
   "metadata": {},
   "outputs": [],
   "source": [
    "def salary_tax_calculator():                                      #Head\n",
    "    \n",
    "    firstname = input('Please enter your first name: ')           #Body\n",
    "\n",
    "    # surname = input('Please enter your last name: ')\n",
    "\n",
    "    # age = int(input('How old are you: '))\n",
    "\n",
    "    salary = float(input('How much is your salary: '))\n",
    "\n",
    "    tax_rate = float(input('what is your country tax rate policy: '))\n",
    "\n",
    "    tax_amount = salary * tax_rate\n",
    "\n",
    "    gross_salary = salary\n",
    "\n",
    "    net_salary = salary - tax_amount\n",
    "\n",
    "    return print(f'\\n\\n Name is {firstname} \\n My Gross Salary is {gross_salary} and My Take Home is {net_salary}')    #Output\n"
   ]
  },
  {
   "cell_type": "code",
   "execution_count": 19,
   "id": "d87e324a",
   "metadata": {},
   "outputs": [
    {
     "name": "stdout",
     "output_type": "stream",
     "text": [
      "Please enter your first name: ola\n",
      "How much is your salary: 5000\n",
      "what is your country tax rate policy: 0.05\n",
      "\n",
      "\n",
      " Name is ola \n",
      " My Gross Salary is 5000.0 and My Take Home is 4750.0\n"
     ]
    }
   ],
   "source": [
    "salary_tax_calculator()"
   ]
  },
  {
   "cell_type": "code",
   "execution_count": 24,
   "id": "3d8b7b7f",
   "metadata": {},
   "outputs": [],
   "source": [
    "def salary_tax_calculator(firstname = 'Damilola', salary = 5000, tax_rate = 0.05):                                      #Head\n",
    "    \n",
    "    firstname = firstname           #Body\n",
    "\n",
    "    salary = salary\n",
    "\n",
    "    tax_rate = tax_rate\n",
    "\n",
    "    tax_amount = salary * tax_rate\n",
    "\n",
    "    net_salary = salary - tax_amount\n",
    "\n",
    "    return firstname, salary, net_salary\n",
    "\n",
    "#print(f'\\n\\n Name is {firstname} \\n My Gross Salary is {gross_salary} and My Take Home is {net_salary}')    #Output\n"
   ]
  },
  {
   "cell_type": "code",
   "execution_count": 25,
   "id": "fff1b865",
   "metadata": {},
   "outputs": [
    {
     "data": {
      "text/plain": [
       "('Damilola', 5000, 4750.0)"
      ]
     },
     "execution_count": 25,
     "metadata": {},
     "output_type": "execute_result"
    }
   ],
   "source": [
    "salary_tax_calculator()"
   ]
  },
  {
   "cell_type": "code",
   "execution_count": 26,
   "id": "0d32fedc",
   "metadata": {},
   "outputs": [
    {
     "data": {
      "text/plain": [
       "('Chinny', 40000, 20000.0)"
      ]
     },
     "execution_count": 26,
     "metadata": {},
     "output_type": "execute_result"
    }
   ],
   "source": [
    "salary_tax_calculator('Chinny', 40000, 0.5)"
   ]
  },
  {
   "cell_type": "code",
   "execution_count": 28,
   "id": "e0d9c629",
   "metadata": {},
   "outputs": [
    {
     "data": {
      "text/plain": [
       "('olalekan', 10000, 8000.0)"
      ]
     },
     "execution_count": 28,
     "metadata": {},
     "output_type": "execute_result"
    }
   ],
   "source": [
    "salary_tax_calculator('olalekan', 10000, 0.2)"
   ]
  },
  {
   "cell_type": "code",
   "execution_count": 29,
   "id": "b5bf496f",
   "metadata": {},
   "outputs": [
    {
     "name": "stdout",
     "output_type": "stream",
     "text": [
      "First Name:  Damilola \n",
      "Surname:  Emmanuel \n",
      "Age:  25 \n",
      "Account Balance:  7800.19 \n",
      "\n"
     ]
    }
   ],
   "source": [
    "print('First Name: ', firstname, '\\n'\n",
    "      'Surname: ', surname, '\\n'\n",
    "      'Age: ', age, '\\n'\n",
    "      'Account Balance: ', account_balance, '\\n')"
   ]
  },
  {
   "cell_type": "markdown",
   "id": "7f46892b",
   "metadata": {},
   "source": [
    "## Debugging - reading errors"
   ]
  },
  {
   "cell_type": "code",
   "execution_count": null,
   "id": "39e47463",
   "metadata": {},
   "outputs": [],
   "source": []
  },
  {
   "cell_type": "markdown",
   "id": "f3fbbf59",
   "metadata": {},
   "source": [
    "## Function\n",
    "A function is a **block of code designed to perform a specific task**. \n",
    "\n",
    "As you'll see, functions will let you do roughly the same calculation multiple times without duplicating any code.\n",
    "\n",
    "It contains **Head** and **Body**.\n",
    "\n"
   ]
  },
  {
   "cell_type": "code",
   "execution_count": null,
   "id": "c82c7b7c",
   "metadata": {},
   "outputs": [],
   "source": [
    "def add_three(input_var):       # HEAD\n",
    "    output_var = input_var + 3      # BODY\n",
    "    return output_var            # OUTPUT which is optional\n",
    "    \n",
    "    \n",
    "    \n",
    "\n",
    "# Functions with multiple arguments\n",
    "\n",
    "# Functions with no arguments"
   ]
  },
  {
   "cell_type": "code",
   "execution_count": null,
   "id": "e9622c57",
   "metadata": {},
   "outputs": [],
   "source": []
  },
  {
   "cell_type": "markdown",
   "id": "e2cd75a1",
   "metadata": {},
   "source": [
    "Say you are helping a friend to calculate their weekly paycheck after taxes.\n",
    "\n",
    "- They're in a 12% tax bracket (in other words, 12% of their salary is taken for taxes, and they only take home 88%), and\n",
    "\n",
    "- They're paid monthly, at a rate of $7,500/month.\n",
    "\n",
    "- Create a calculator to be used for 2 - 6 months period"
   ]
  },
  {
   "cell_type": "code",
   "execution_count": null,
   "id": "ba17c004",
   "metadata": {},
   "outputs": [],
   "source": [
    "\n",
    "def get_pay(num_hours):\n",
    "    # Pre-tax pay, based on receiving $15/hour\n",
    "    pay_pretax = num_hours * 15\n",
    "    # After-tax pay, based on being in 12% tax bracket\n",
    "    pay_aftertax = pay_pretax * (1 - .12)\n",
    "    return pay_aftertax\n",
    "\n"
   ]
  },
  {
   "cell_type": "markdown",
   "id": "f168a0ed",
   "metadata": {},
   "source": [
    "## Data Types\n"
   ]
  },
  {
   "cell_type": "markdown",
   "id": "37f2607f",
   "metadata": {},
   "source": [
    "## Integers\n",
    "Int, or integer, is a whole number, positive or negative, without decimals, of unlimited length."
   ]
  },
  {
   "cell_type": "code",
   "execution_count": 30,
   "id": "d311785b",
   "metadata": {},
   "outputs": [],
   "source": [
    "no_of_child = 2"
   ]
  },
  {
   "cell_type": "code",
   "execution_count": 31,
   "id": "312c7f9a",
   "metadata": {},
   "outputs": [
    {
     "data": {
      "text/plain": [
       "int"
      ]
     },
     "execution_count": 31,
     "metadata": {},
     "output_type": "execute_result"
    }
   ],
   "source": [
    "type(no_of_child)"
   ]
  },
  {
   "cell_type": "code",
   "execution_count": 32,
   "id": "e5f8447f",
   "metadata": {},
   "outputs": [
    {
     "data": {
      "text/plain": [
       "['__abs__',\n",
       " '__add__',\n",
       " '__and__',\n",
       " '__bool__',\n",
       " '__ceil__',\n",
       " '__class__',\n",
       " '__delattr__',\n",
       " '__dir__',\n",
       " '__divmod__',\n",
       " '__doc__',\n",
       " '__eq__',\n",
       " '__float__',\n",
       " '__floor__',\n",
       " '__floordiv__',\n",
       " '__format__',\n",
       " '__ge__',\n",
       " '__getattribute__',\n",
       " '__getnewargs__',\n",
       " '__gt__',\n",
       " '__hash__',\n",
       " '__index__',\n",
       " '__init__',\n",
       " '__init_subclass__',\n",
       " '__int__',\n",
       " '__invert__',\n",
       " '__le__',\n",
       " '__lshift__',\n",
       " '__lt__',\n",
       " '__mod__',\n",
       " '__mul__',\n",
       " '__ne__',\n",
       " '__neg__',\n",
       " '__new__',\n",
       " '__or__',\n",
       " '__pos__',\n",
       " '__pow__',\n",
       " '__radd__',\n",
       " '__rand__',\n",
       " '__rdivmod__',\n",
       " '__reduce__',\n",
       " '__reduce_ex__',\n",
       " '__repr__',\n",
       " '__rfloordiv__',\n",
       " '__rlshift__',\n",
       " '__rmod__',\n",
       " '__rmul__',\n",
       " '__ror__',\n",
       " '__round__',\n",
       " '__rpow__',\n",
       " '__rrshift__',\n",
       " '__rshift__',\n",
       " '__rsub__',\n",
       " '__rtruediv__',\n",
       " '__rxor__',\n",
       " '__setattr__',\n",
       " '__sizeof__',\n",
       " '__str__',\n",
       " '__sub__',\n",
       " '__subclasshook__',\n",
       " '__truediv__',\n",
       " '__trunc__',\n",
       " '__xor__',\n",
       " 'as_integer_ratio',\n",
       " 'bit_length',\n",
       " 'conjugate',\n",
       " 'denominator',\n",
       " 'from_bytes',\n",
       " 'imag',\n",
       " 'numerator',\n",
       " 'real',\n",
       " 'to_bytes']"
      ]
     },
     "execution_count": 32,
     "metadata": {},
     "output_type": "execute_result"
    }
   ],
   "source": [
    "dir(no_of_child)"
   ]
  },
  {
   "cell_type": "code",
   "execution_count": 33,
   "id": "e3304a1c",
   "metadata": {},
   "outputs": [
    {
     "name": "stdout",
     "output_type": "stream",
     "text": [
      "Help on int object:\n",
      "\n",
      "class int(object)\n",
      " |  int([x]) -> integer\n",
      " |  int(x, base=10) -> integer\n",
      " |  \n",
      " |  Convert a number or string to an integer, or return 0 if no arguments\n",
      " |  are given.  If x is a number, return x.__int__().  For floating point\n",
      " |  numbers, this truncates towards zero.\n",
      " |  \n",
      " |  If x is not a number or if base is given, then x must be a string,\n",
      " |  bytes, or bytearray instance representing an integer literal in the\n",
      " |  given base.  The literal can be preceded by '+' or '-' and be surrounded\n",
      " |  by whitespace.  The base defaults to 10.  Valid bases are 0 and 2-36.\n",
      " |  Base 0 means to interpret the base from the string as an integer literal.\n",
      " |  >>> int('0b100', base=0)\n",
      " |  4\n",
      " |  \n",
      " |  Built-in subclasses:\n",
      " |      bool\n",
      " |  \n",
      " |  Methods defined here:\n",
      " |  \n",
      " |  __abs__(self, /)\n",
      " |      abs(self)\n",
      " |  \n",
      " |  __add__(self, value, /)\n",
      " |      Return self+value.\n",
      " |  \n",
      " |  __and__(self, value, /)\n",
      " |      Return self&value.\n",
      " |  \n",
      " |  __bool__(self, /)\n",
      " |      True if self else False\n",
      " |  \n",
      " |  __ceil__(...)\n",
      " |      Ceiling of an Integral returns itself.\n",
      " |  \n",
      " |  __divmod__(self, value, /)\n",
      " |      Return divmod(self, value).\n",
      " |  \n",
      " |  __eq__(self, value, /)\n",
      " |      Return self==value.\n",
      " |  \n",
      " |  __float__(self, /)\n",
      " |      float(self)\n",
      " |  \n",
      " |  __floor__(...)\n",
      " |      Flooring an Integral returns itself.\n",
      " |  \n",
      " |  __floordiv__(self, value, /)\n",
      " |      Return self//value.\n",
      " |  \n",
      " |  __format__(self, format_spec, /)\n",
      " |      Default object formatter.\n",
      " |  \n",
      " |  __ge__(self, value, /)\n",
      " |      Return self>=value.\n",
      " |  \n",
      " |  __getattribute__(self, name, /)\n",
      " |      Return getattr(self, name).\n",
      " |  \n",
      " |  __getnewargs__(self, /)\n",
      " |  \n",
      " |  __gt__(self, value, /)\n",
      " |      Return self>value.\n",
      " |  \n",
      " |  __hash__(self, /)\n",
      " |      Return hash(self).\n",
      " |  \n",
      " |  __index__(self, /)\n",
      " |      Return self converted to an integer, if self is suitable for use as an index into a list.\n",
      " |  \n",
      " |  __int__(self, /)\n",
      " |      int(self)\n",
      " |  \n",
      " |  __invert__(self, /)\n",
      " |      ~self\n",
      " |  \n",
      " |  __le__(self, value, /)\n",
      " |      Return self<=value.\n",
      " |  \n",
      " |  __lshift__(self, value, /)\n",
      " |      Return self<<value.\n",
      " |  \n",
      " |  __lt__(self, value, /)\n",
      " |      Return self<value.\n",
      " |  \n",
      " |  __mod__(self, value, /)\n",
      " |      Return self%value.\n",
      " |  \n",
      " |  __mul__(self, value, /)\n",
      " |      Return self*value.\n",
      " |  \n",
      " |  __ne__(self, value, /)\n",
      " |      Return self!=value.\n",
      " |  \n",
      " |  __neg__(self, /)\n",
      " |      -self\n",
      " |  \n",
      " |  __or__(self, value, /)\n",
      " |      Return self|value.\n",
      " |  \n",
      " |  __pos__(self, /)\n",
      " |      +self\n",
      " |  \n",
      " |  __pow__(self, value, mod=None, /)\n",
      " |      Return pow(self, value, mod).\n",
      " |  \n",
      " |  __radd__(self, value, /)\n",
      " |      Return value+self.\n",
      " |  \n",
      " |  __rand__(self, value, /)\n",
      " |      Return value&self.\n",
      " |  \n",
      " |  __rdivmod__(self, value, /)\n",
      " |      Return divmod(value, self).\n",
      " |  \n",
      " |  __repr__(self, /)\n",
      " |      Return repr(self).\n",
      " |  \n",
      " |  __rfloordiv__(self, value, /)\n",
      " |      Return value//self.\n",
      " |  \n",
      " |  __rlshift__(self, value, /)\n",
      " |      Return value<<self.\n",
      " |  \n",
      " |  __rmod__(self, value, /)\n",
      " |      Return value%self.\n",
      " |  \n",
      " |  __rmul__(self, value, /)\n",
      " |      Return value*self.\n",
      " |  \n",
      " |  __ror__(self, value, /)\n",
      " |      Return value|self.\n",
      " |  \n",
      " |  __round__(...)\n",
      " |      Rounding an Integral returns itself.\n",
      " |      Rounding with an ndigits argument also returns an integer.\n",
      " |  \n",
      " |  __rpow__(self, value, mod=None, /)\n",
      " |      Return pow(value, self, mod).\n",
      " |  \n",
      " |  __rrshift__(self, value, /)\n",
      " |      Return value>>self.\n",
      " |  \n",
      " |  __rshift__(self, value, /)\n",
      " |      Return self>>value.\n",
      " |  \n",
      " |  __rsub__(self, value, /)\n",
      " |      Return value-self.\n",
      " |  \n",
      " |  __rtruediv__(self, value, /)\n",
      " |      Return value/self.\n",
      " |  \n",
      " |  __rxor__(self, value, /)\n",
      " |      Return value^self.\n",
      " |  \n",
      " |  __sizeof__(self, /)\n",
      " |      Returns size in memory, in bytes.\n",
      " |  \n",
      " |  __sub__(self, value, /)\n",
      " |      Return self-value.\n",
      " |  \n",
      " |  __truediv__(self, value, /)\n",
      " |      Return self/value.\n",
      " |  \n",
      " |  __trunc__(...)\n",
      " |      Truncating an Integral returns itself.\n",
      " |  \n",
      " |  __xor__(self, value, /)\n",
      " |      Return self^value.\n",
      " |  \n",
      " |  as_integer_ratio(self, /)\n",
      " |      Return integer ratio.\n",
      " |      \n",
      " |      Return a pair of integers, whose ratio is exactly equal to the original int\n",
      " |      and with a positive denominator.\n",
      " |      \n",
      " |      >>> (10).as_integer_ratio()\n",
      " |      (10, 1)\n",
      " |      >>> (-10).as_integer_ratio()\n",
      " |      (-10, 1)\n",
      " |      >>> (0).as_integer_ratio()\n",
      " |      (0, 1)\n",
      " |  \n",
      " |  bit_length(self, /)\n",
      " |      Number of bits necessary to represent self in binary.\n",
      " |      \n",
      " |      >>> bin(37)\n",
      " |      '0b100101'\n",
      " |      >>> (37).bit_length()\n",
      " |      6\n",
      " |  \n",
      " |  conjugate(...)\n",
      " |      Returns self, the complex conjugate of any int.\n",
      " |  \n",
      " |  to_bytes(self, /, length, byteorder, *, signed=False)\n",
      " |      Return an array of bytes representing an integer.\n",
      " |      \n",
      " |      length\n",
      " |        Length of bytes object to use.  An OverflowError is raised if the\n",
      " |        integer is not representable with the given number of bytes.\n",
      " |      byteorder\n",
      " |        The byte order used to represent the integer.  If byteorder is 'big',\n",
      " |        the most significant byte is at the beginning of the byte array.  If\n",
      " |        byteorder is 'little', the most significant byte is at the end of the\n",
      " |        byte array.  To request the native byte order of the host system, use\n",
      " |        `sys.byteorder' as the byte order value.\n",
      " |      signed\n",
      " |        Determines whether two's complement is used to represent the integer.\n",
      " |        If signed is False and a negative integer is given, an OverflowError\n",
      " |        is raised.\n",
      " |  \n",
      " |  ----------------------------------------------------------------------\n",
      " |  Class methods defined here:\n",
      " |  \n",
      " |  from_bytes(bytes, byteorder, *, signed=False) from builtins.type\n",
      " |      Return the integer represented by the given array of bytes.\n",
      " |      \n",
      " |      bytes\n",
      " |        Holds the array of bytes to convert.  The argument must either\n",
      " |        support the buffer protocol or be an iterable object producing bytes.\n",
      " |        Bytes and bytearray are examples of built-in objects that support the\n",
      " |        buffer protocol.\n",
      " |      byteorder\n",
      " |        The byte order used to represent the integer.  If byteorder is 'big',\n",
      " |        the most significant byte is at the beginning of the byte array.  If\n",
      " |        byteorder is 'little', the most significant byte is at the end of the\n",
      " |        byte array.  To request the native byte order of the host system, use\n",
      " |        `sys.byteorder' as the byte order value.\n",
      " |      signed\n",
      " |        Indicates whether two's complement is used to represent the integer.\n",
      " |  \n",
      " |  ----------------------------------------------------------------------\n",
      " |  Static methods defined here:\n",
      " |  \n",
      " |  __new__(*args, **kwargs) from builtins.type\n",
      " |      Create and return a new object.  See help(type) for accurate signature.\n",
      " |  \n",
      " |  ----------------------------------------------------------------------\n",
      " |  Data descriptors defined here:\n",
      " |  \n",
      " |  denominator\n",
      " |      the denominator of a rational number in lowest terms\n",
      " |  \n",
      " |  imag\n",
      " |      the imaginary part of a complex number\n",
      " |  \n",
      " |  numerator\n",
      " |      the numerator of a rational number in lowest terms\n",
      " |  \n",
      " |  real\n",
      " |      the real part of a complex number\n",
      "\n"
     ]
    }
   ],
   "source": [
    "help(no_of_child)"
   ]
  },
  {
   "cell_type": "code",
   "execution_count": 34,
   "id": "abad8b59",
   "metadata": {},
   "outputs": [
    {
     "data": {
      "text/plain": [
       "('Damilola', 5000, 4750.0)"
      ]
     },
     "execution_count": 34,
     "metadata": {},
     "output_type": "execute_result"
    }
   ],
   "source": [
    "salary_tax_calculator()"
   ]
  },
  {
   "cell_type": "code",
   "execution_count": 35,
   "id": "7d596326",
   "metadata": {},
   "outputs": [
    {
     "data": {
      "text/plain": [
       "2"
      ]
     },
     "execution_count": 35,
     "metadata": {},
     "output_type": "execute_result"
    }
   ],
   "source": [
    "type(-2)\n",
    "abs(-2)"
   ]
  },
  {
   "cell_type": "markdown",
   "id": "318b6d78",
   "metadata": {},
   "source": [
    "## Float\n",
    "The difference between floating points and integers is decimal points. Floating point number can be represented as “1.0”, and integer can be represented as “1”. It is accurate up to 15 decimal places."
   ]
  },
  {
   "cell_type": "code",
   "execution_count": 36,
   "id": "ac63dd78",
   "metadata": {},
   "outputs": [
    {
     "data": {
      "text/plain": [
       "2.0"
      ]
     },
     "execution_count": 36,
     "metadata": {},
     "output_type": "execute_result"
    }
   ],
   "source": [
    "float(2)"
   ]
  },
  {
   "cell_type": "code",
   "execution_count": 37,
   "id": "8c8b1911",
   "metadata": {},
   "outputs": [
    {
     "name": "stdout",
     "output_type": "stream",
     "text": [
      "Help on class float in module builtins:\n",
      "\n",
      "class float(object)\n",
      " |  float(x=0, /)\n",
      " |  \n",
      " |  Convert a string or number to a floating point number, if possible.\n",
      " |  \n",
      " |  Methods defined here:\n",
      " |  \n",
      " |  __abs__(self, /)\n",
      " |      abs(self)\n",
      " |  \n",
      " |  __add__(self, value, /)\n",
      " |      Return self+value.\n",
      " |  \n",
      " |  __bool__(self, /)\n",
      " |      True if self else False\n",
      " |  \n",
      " |  __ceil__(self, /)\n",
      " |      Return the ceiling as an Integral.\n",
      " |  \n",
      " |  __divmod__(self, value, /)\n",
      " |      Return divmod(self, value).\n",
      " |  \n",
      " |  __eq__(self, value, /)\n",
      " |      Return self==value.\n",
      " |  \n",
      " |  __float__(self, /)\n",
      " |      float(self)\n",
      " |  \n",
      " |  __floor__(self, /)\n",
      " |      Return the floor as an Integral.\n",
      " |  \n",
      " |  __floordiv__(self, value, /)\n",
      " |      Return self//value.\n",
      " |  \n",
      " |  __format__(self, format_spec, /)\n",
      " |      Formats the float according to format_spec.\n",
      " |  \n",
      " |  __ge__(self, value, /)\n",
      " |      Return self>=value.\n",
      " |  \n",
      " |  __getattribute__(self, name, /)\n",
      " |      Return getattr(self, name).\n",
      " |  \n",
      " |  __getnewargs__(self, /)\n",
      " |  \n",
      " |  __gt__(self, value, /)\n",
      " |      Return self>value.\n",
      " |  \n",
      " |  __hash__(self, /)\n",
      " |      Return hash(self).\n",
      " |  \n",
      " |  __int__(self, /)\n",
      " |      int(self)\n",
      " |  \n",
      " |  __le__(self, value, /)\n",
      " |      Return self<=value.\n",
      " |  \n",
      " |  __lt__(self, value, /)\n",
      " |      Return self<value.\n",
      " |  \n",
      " |  __mod__(self, value, /)\n",
      " |      Return self%value.\n",
      " |  \n",
      " |  __mul__(self, value, /)\n",
      " |      Return self*value.\n",
      " |  \n",
      " |  __ne__(self, value, /)\n",
      " |      Return self!=value.\n",
      " |  \n",
      " |  __neg__(self, /)\n",
      " |      -self\n",
      " |  \n",
      " |  __pos__(self, /)\n",
      " |      +self\n",
      " |  \n",
      " |  __pow__(self, value, mod=None, /)\n",
      " |      Return pow(self, value, mod).\n",
      " |  \n",
      " |  __radd__(self, value, /)\n",
      " |      Return value+self.\n",
      " |  \n",
      " |  __rdivmod__(self, value, /)\n",
      " |      Return divmod(value, self).\n",
      " |  \n",
      " |  __repr__(self, /)\n",
      " |      Return repr(self).\n",
      " |  \n",
      " |  __rfloordiv__(self, value, /)\n",
      " |      Return value//self.\n",
      " |  \n",
      " |  __rmod__(self, value, /)\n",
      " |      Return value%self.\n",
      " |  \n",
      " |  __rmul__(self, value, /)\n",
      " |      Return value*self.\n",
      " |  \n",
      " |  __round__(self, ndigits=None, /)\n",
      " |      Return the Integral closest to x, rounding half toward even.\n",
      " |      \n",
      " |      When an argument is passed, work like built-in round(x, ndigits).\n",
      " |  \n",
      " |  __rpow__(self, value, mod=None, /)\n",
      " |      Return pow(value, self, mod).\n",
      " |  \n",
      " |  __rsub__(self, value, /)\n",
      " |      Return value-self.\n",
      " |  \n",
      " |  __rtruediv__(self, value, /)\n",
      " |      Return value/self.\n",
      " |  \n",
      " |  __sub__(self, value, /)\n",
      " |      Return self-value.\n",
      " |  \n",
      " |  __truediv__(self, value, /)\n",
      " |      Return self/value.\n",
      " |  \n",
      " |  __trunc__(self, /)\n",
      " |      Return the Integral closest to x between 0 and x.\n",
      " |  \n",
      " |  as_integer_ratio(self, /)\n",
      " |      Return integer ratio.\n",
      " |      \n",
      " |      Return a pair of integers, whose ratio is exactly equal to the original float\n",
      " |      and with a positive denominator.\n",
      " |      \n",
      " |      Raise OverflowError on infinities and a ValueError on NaNs.\n",
      " |      \n",
      " |      >>> (10.0).as_integer_ratio()\n",
      " |      (10, 1)\n",
      " |      >>> (0.0).as_integer_ratio()\n",
      " |      (0, 1)\n",
      " |      >>> (-.25).as_integer_ratio()\n",
      " |      (-1, 4)\n",
      " |  \n",
      " |  conjugate(self, /)\n",
      " |      Return self, the complex conjugate of any float.\n",
      " |  \n",
      " |  hex(self, /)\n",
      " |      Return a hexadecimal representation of a floating-point number.\n",
      " |      \n",
      " |      >>> (-0.1).hex()\n",
      " |      '-0x1.999999999999ap-4'\n",
      " |      >>> 3.14159.hex()\n",
      " |      '0x1.921f9f01b866ep+1'\n",
      " |  \n",
      " |  is_integer(self, /)\n",
      " |      Return True if the float is an integer.\n",
      " |  \n",
      " |  ----------------------------------------------------------------------\n",
      " |  Class methods defined here:\n",
      " |  \n",
      " |  __getformat__(typestr, /) from builtins.type\n",
      " |      You probably don't want to use this function.\n",
      " |      \n",
      " |        typestr\n",
      " |          Must be 'double' or 'float'.\n",
      " |      \n",
      " |      It exists mainly to be used in Python's test suite.\n",
      " |      \n",
      " |      This function returns whichever of 'unknown', 'IEEE, big-endian' or 'IEEE,\n",
      " |      little-endian' best describes the format of floating point numbers used by the\n",
      " |      C type named by typestr.\n",
      " |  \n",
      " |  __setformat__(typestr, fmt, /) from builtins.type\n",
      " |      You probably don't want to use this function.\n",
      " |      \n",
      " |        typestr\n",
      " |          Must be 'double' or 'float'.\n",
      " |        fmt\n",
      " |          Must be one of 'unknown', 'IEEE, big-endian' or 'IEEE, little-endian',\n",
      " |          and in addition can only be one of the latter two if it appears to\n",
      " |          match the underlying C reality.\n",
      " |      \n",
      " |      It exists mainly to be used in Python's test suite.\n",
      " |      \n",
      " |      Override the automatic determination of C-level floating point type.\n",
      " |      This affects how floats are converted to and from binary strings.\n",
      " |  \n",
      " |  fromhex(string, /) from builtins.type\n",
      " |      Create a floating-point number from a hexadecimal string.\n",
      " |      \n",
      " |      >>> float.fromhex('0x1.ffffp10')\n",
      " |      2047.984375\n",
      " |      >>> float.fromhex('-0x1p-1074')\n",
      " |      -5e-324\n",
      " |  \n",
      " |  ----------------------------------------------------------------------\n",
      " |  Static methods defined here:\n",
      " |  \n",
      " |  __new__(*args, **kwargs) from builtins.type\n",
      " |      Create and return a new object.  See help(type) for accurate signature.\n",
      " |  \n",
      " |  ----------------------------------------------------------------------\n",
      " |  Data descriptors defined here:\n",
      " |  \n",
      " |  imag\n",
      " |      the imaginary part of a complex number\n",
      " |  \n",
      " |  real\n",
      " |      the real part of a complex number\n",
      "\n"
     ]
    }
   ],
   "source": [
    "help(float)"
   ]
  },
  {
   "cell_type": "code",
   "execution_count": null,
   "id": "de309e25",
   "metadata": {},
   "outputs": [],
   "source": []
  },
  {
   "cell_type": "markdown",
   "id": "65563437",
   "metadata": {},
   "source": [
    "## List\n",
    "A List is an **ordered sequence of items**.\n",
    "\n",
    "It is a very flexible data type in Python. There is no need for the value in the list to be of the same data type. \n",
    "\n",
    "The List is the data type that is highly used data type in Python. List datatype is the most exclusive datatype in Python for containing versatile data. It can easily hold different types of data in Python.\n",
    "\n"
   ]
  },
  {
   "cell_type": "code",
   "execution_count": 38,
   "id": "896705f6",
   "metadata": {},
   "outputs": [
    {
     "data": {
      "text/plain": [
       "2"
      ]
     },
     "execution_count": 38,
     "metadata": {},
     "output_type": "execute_result"
    }
   ],
   "source": [
    "int(2.1)"
   ]
  },
  {
   "cell_type": "code",
   "execution_count": 39,
   "id": "348da285",
   "metadata": {},
   "outputs": [
    {
     "data": {
      "text/plain": [
       "1.23"
      ]
     },
     "execution_count": 39,
     "metadata": {},
     "output_type": "execute_result"
    }
   ],
   "source": [
    "round(1.234256, 2)"
   ]
  },
  {
   "cell_type": "code",
   "execution_count": 40,
   "id": "58ce74cc",
   "metadata": {},
   "outputs": [],
   "source": [
    "class_list = []"
   ]
  },
  {
   "cell_type": "code",
   "execution_count": 42,
   "id": "95fa76dd",
   "metadata": {},
   "outputs": [],
   "source": [
    "class_list_2 = [2,4,7,1,10,'Damilola',2,3,False]"
   ]
  },
  {
   "cell_type": "code",
   "execution_count": 43,
   "id": "1415c20e",
   "metadata": {},
   "outputs": [
    {
     "data": {
      "text/plain": [
       "[2, 4, 7, 1, 10, 'Damilola', 2, 3, False]"
      ]
     },
     "execution_count": 43,
     "metadata": {},
     "output_type": "execute_result"
    }
   ],
   "source": [
    "class_list_2"
   ]
  },
  {
   "cell_type": "code",
   "execution_count": 51,
   "id": "c3eee4a5",
   "metadata": {},
   "outputs": [
    {
     "data": {
      "text/plain": [
       "[2, 2, 4, [2, 4, 7, 1, 10, 'Damilola', 2, 3, False]]"
      ]
     },
     "execution_count": 51,
     "metadata": {},
     "output_type": "execute_result"
    }
   ],
   "source": [
    "class_list"
   ]
  },
  {
   "cell_type": "code",
   "execution_count": 44,
   "id": "4264a7eb",
   "metadata": {},
   "outputs": [],
   "source": [
    "class_list.append(2)"
   ]
  },
  {
   "cell_type": "code",
   "execution_count": 45,
   "id": "a768bdb1",
   "metadata": {},
   "outputs": [],
   "source": [
    "class_list.append(4)"
   ]
  },
  {
   "cell_type": "code",
   "execution_count": 46,
   "id": "30a7e71d",
   "metadata": {},
   "outputs": [
    {
     "name": "stdout",
     "output_type": "stream",
     "text": [
      "None\n"
     ]
    }
   ],
   "source": [
    "print(class_list.append(class_list_2))"
   ]
  },
  {
   "cell_type": "code",
   "execution_count": 47,
   "id": "4bc190b5",
   "metadata": {},
   "outputs": [
    {
     "data": {
      "text/plain": [
       "list"
      ]
     },
     "execution_count": 47,
     "metadata": {},
     "output_type": "execute_result"
    }
   ],
   "source": [
    "type(class_list)"
   ]
  },
  {
   "cell_type": "code",
   "execution_count": 48,
   "id": "df88cc3d",
   "metadata": {},
   "outputs": [
    {
     "data": {
      "text/plain": [
       "['__add__',\n",
       " '__class__',\n",
       " '__class_getitem__',\n",
       " '__contains__',\n",
       " '__delattr__',\n",
       " '__delitem__',\n",
       " '__dir__',\n",
       " '__doc__',\n",
       " '__eq__',\n",
       " '__format__',\n",
       " '__ge__',\n",
       " '__getattribute__',\n",
       " '__getitem__',\n",
       " '__gt__',\n",
       " '__hash__',\n",
       " '__iadd__',\n",
       " '__imul__',\n",
       " '__init__',\n",
       " '__init_subclass__',\n",
       " '__iter__',\n",
       " '__le__',\n",
       " '__len__',\n",
       " '__lt__',\n",
       " '__mul__',\n",
       " '__ne__',\n",
       " '__new__',\n",
       " '__reduce__',\n",
       " '__reduce_ex__',\n",
       " '__repr__',\n",
       " '__reversed__',\n",
       " '__rmul__',\n",
       " '__setattr__',\n",
       " '__setitem__',\n",
       " '__sizeof__',\n",
       " '__str__',\n",
       " '__subclasshook__',\n",
       " 'append',\n",
       " 'clear',\n",
       " 'copy',\n",
       " 'count',\n",
       " 'extend',\n",
       " 'index',\n",
       " 'insert',\n",
       " 'pop',\n",
       " 'remove',\n",
       " 'reverse',\n",
       " 'sort']"
      ]
     },
     "execution_count": 48,
     "metadata": {},
     "output_type": "execute_result"
    }
   ],
   "source": [
    "dir(class_list)"
   ]
  },
  {
   "cell_type": "code",
   "execution_count": 49,
   "id": "8081b01c",
   "metadata": {},
   "outputs": [
    {
     "name": "stdout",
     "output_type": "stream",
     "text": [
      "Help on list object:\n",
      "\n",
      "class list(object)\n",
      " |  list(iterable=(), /)\n",
      " |  \n",
      " |  Built-in mutable sequence.\n",
      " |  \n",
      " |  If no argument is given, the constructor creates a new empty list.\n",
      " |  The argument must be an iterable if specified.\n",
      " |  \n",
      " |  Methods defined here:\n",
      " |  \n",
      " |  __add__(self, value, /)\n",
      " |      Return self+value.\n",
      " |  \n",
      " |  __contains__(self, key, /)\n",
      " |      Return key in self.\n",
      " |  \n",
      " |  __delitem__(self, key, /)\n",
      " |      Delete self[key].\n",
      " |  \n",
      " |  __eq__(self, value, /)\n",
      " |      Return self==value.\n",
      " |  \n",
      " |  __ge__(self, value, /)\n",
      " |      Return self>=value.\n",
      " |  \n",
      " |  __getattribute__(self, name, /)\n",
      " |      Return getattr(self, name).\n",
      " |  \n",
      " |  __getitem__(...)\n",
      " |      x.__getitem__(y) <==> x[y]\n",
      " |  \n",
      " |  __gt__(self, value, /)\n",
      " |      Return self>value.\n",
      " |  \n",
      " |  __iadd__(self, value, /)\n",
      " |      Implement self+=value.\n",
      " |  \n",
      " |  __imul__(self, value, /)\n",
      " |      Implement self*=value.\n",
      " |  \n",
      " |  __init__(self, /, *args, **kwargs)\n",
      " |      Initialize self.  See help(type(self)) for accurate signature.\n",
      " |  \n",
      " |  __iter__(self, /)\n",
      " |      Implement iter(self).\n",
      " |  \n",
      " |  __le__(self, value, /)\n",
      " |      Return self<=value.\n",
      " |  \n",
      " |  __len__(self, /)\n",
      " |      Return len(self).\n",
      " |  \n",
      " |  __lt__(self, value, /)\n",
      " |      Return self<value.\n",
      " |  \n",
      " |  __mul__(self, value, /)\n",
      " |      Return self*value.\n",
      " |  \n",
      " |  __ne__(self, value, /)\n",
      " |      Return self!=value.\n",
      " |  \n",
      " |  __repr__(self, /)\n",
      " |      Return repr(self).\n",
      " |  \n",
      " |  __reversed__(self, /)\n",
      " |      Return a reverse iterator over the list.\n",
      " |  \n",
      " |  __rmul__(self, value, /)\n",
      " |      Return value*self.\n",
      " |  \n",
      " |  __setitem__(self, key, value, /)\n",
      " |      Set self[key] to value.\n",
      " |  \n",
      " |  __sizeof__(self, /)\n",
      " |      Return the size of the list in memory, in bytes.\n",
      " |  \n",
      " |  append(self, object, /)\n",
      " |      Append object to the end of the list.\n",
      " |  \n",
      " |  clear(self, /)\n",
      " |      Remove all items from list.\n",
      " |  \n",
      " |  copy(self, /)\n",
      " |      Return a shallow copy of the list.\n",
      " |  \n",
      " |  count(self, value, /)\n",
      " |      Return number of occurrences of value.\n",
      " |  \n",
      " |  extend(self, iterable, /)\n",
      " |      Extend list by appending elements from the iterable.\n",
      " |  \n",
      " |  index(self, value, start=0, stop=9223372036854775807, /)\n",
      " |      Return first index of value.\n",
      " |      \n",
      " |      Raises ValueError if the value is not present.\n",
      " |  \n",
      " |  insert(self, index, object, /)\n",
      " |      Insert object before index.\n",
      " |  \n",
      " |  pop(self, index=-1, /)\n",
      " |      Remove and return item at index (default last).\n",
      " |      \n",
      " |      Raises IndexError if list is empty or index is out of range.\n",
      " |  \n",
      " |  remove(self, value, /)\n",
      " |      Remove first occurrence of value.\n",
      " |      \n",
      " |      Raises ValueError if the value is not present.\n",
      " |  \n",
      " |  reverse(self, /)\n",
      " |      Reverse *IN PLACE*.\n",
      " |  \n",
      " |  sort(self, /, *, key=None, reverse=False)\n",
      " |      Sort the list in ascending order and return None.\n",
      " |      \n",
      " |      The sort is in-place (i.e. the list itself is modified) and stable (i.e. the\n",
      " |      order of two equal elements is maintained).\n",
      " |      \n",
      " |      If a key function is given, apply it once to each list item and sort them,\n",
      " |      ascending or descending, according to their function values.\n",
      " |      \n",
      " |      The reverse flag can be set to sort in descending order.\n",
      " |  \n",
      " |  ----------------------------------------------------------------------\n",
      " |  Class methods defined here:\n",
      " |  \n",
      " |  __class_getitem__(...) from builtins.type\n",
      " |      See PEP 585\n",
      " |  \n",
      " |  ----------------------------------------------------------------------\n",
      " |  Static methods defined here:\n",
      " |  \n",
      " |  __new__(*args, **kwargs) from builtins.type\n",
      " |      Create and return a new object.  See help(type) for accurate signature.\n",
      " |  \n",
      " |  ----------------------------------------------------------------------\n",
      " |  Data and other attributes defined here:\n",
      " |  \n",
      " |  __hash__ = None\n",
      "\n"
     ]
    }
   ],
   "source": [
    "help(class_list)"
   ]
  },
  {
   "cell_type": "code",
   "execution_count": 50,
   "id": "10afe424",
   "metadata": {},
   "outputs": [],
   "source": [
    "test = [23,54,6,10,3]"
   ]
  },
  {
   "cell_type": "code",
   "execution_count": 52,
   "id": "785a9cdc",
   "metadata": {},
   "outputs": [],
   "source": [
    "test.sort()"
   ]
  },
  {
   "cell_type": "code",
   "execution_count": 53,
   "id": "87b0c722",
   "metadata": {},
   "outputs": [
    {
     "data": {
      "text/plain": [
       "[3, 6, 10, 23, 54]"
      ]
     },
     "execution_count": 53,
     "metadata": {},
     "output_type": "execute_result"
    }
   ],
   "source": [
    "test"
   ]
  },
  {
   "cell_type": "code",
   "execution_count": null,
   "id": "a8c3e732",
   "metadata": {},
   "outputs": [],
   "source": [
    "test."
   ]
  },
  {
   "cell_type": "code",
   "execution_count": null,
   "id": "5f429191",
   "metadata": {},
   "outputs": [],
   "source": []
  },
  {
   "cell_type": "markdown",
   "id": "f7c2b53f",
   "metadata": {},
   "source": [
    "**list methods**\n",
    "\n",
    "dir(list)\n",
    "\n",
    "**Removing items**\n",
    "\n",
    "Remove an item from a list with .remove(), and put the item you would like to remove in parentheses.\n",
    "\n",
    "**Adding items**\n",
    "\n",
    "Add an item to a list with .append(), and put the item you would like to add in parentheses."
   ]
  },
  {
   "cell_type": "code",
   "execution_count": null,
   "id": "a9be3807",
   "metadata": {},
   "outputs": [],
   "source": []
  },
  {
   "cell_type": "markdown",
   "id": "66aa907c",
   "metadata": {},
   "source": [
    "## Strings\n",
    "\n",
    "A String is a **sequence of Unicode characters.**\n",
    " In Python, \n",
    " - String is called str. \n",
    " - Strings are represented by using Double quotes or single quotes. \n",
    " - If the strings are multiple, then it can be denoted by the use of triple quotes **“””** or **”’**. \n",
    "\n",
    "All the characters between the quotes are items of the string.\n",
    "\n",
    "**String methods**\n",
    "\n",
    "dir(str)\n",
    "\n",
    "Like **list**, the type **str** has lots of very useful methods."
   ]
  },
  {
   "cell_type": "code",
   "execution_count": null,
   "id": "759af89c",
   "metadata": {},
   "outputs": [],
   "source": [
    "str()"
   ]
  },
  {
   "cell_type": "raw",
   "id": "4095efd5",
   "metadata": {},
   "source": [
    "string_test = \" \" or ' '"
   ]
  },
  {
   "cell_type": "code",
   "execution_count": null,
   "id": "5f55ba01",
   "metadata": {},
   "outputs": [],
   "source": []
  },
  {
   "cell_type": "markdown",
   "id": "19f914f1",
   "metadata": {},
   "source": [
    "name.capitalize()"
   ]
  },
  {
   "cell_type": "code",
   "execution_count": null,
   "id": "f953f08c",
   "metadata": {},
   "outputs": [],
   "source": []
  },
  {
   "cell_type": "markdown",
   "id": "22e721da",
   "metadata": {},
   "source": [
    "#### Print Format"
   ]
  },
  {
   "cell_type": "code",
   "execution_count": null,
   "id": "d306f1bb",
   "metadata": {},
   "outputs": [],
   "source": [
    "# .format\n",
    "# f''"
   ]
  },
  {
   "cell_type": "code",
   "execution_count": null,
   "id": "1d05c65c",
   "metadata": {},
   "outputs": [],
   "source": [
    "#Placeholder\n",
    "\n",
    "name = \"Damilola\"\n",
    "age = 20\n",
    "\n",
    "print(\"my name is %s and i am %s years old\" %(name, age))"
   ]
  },
  {
   "cell_type": "code",
   "execution_count": null,
   "id": "140bf84d",
   "metadata": {},
   "outputs": [],
   "source": []
  },
  {
   "cell_type": "markdown",
   "id": "cc486ecb",
   "metadata": {},
   "source": [
    "### Strings are sequences\n",
    "Strings can be thought of as sequences of characters (list).  Almost everything we've seen that we can do to a list, we can also do to a string.\n",
    "\n",
    "But a major way in which they differ from lists is that they are **immutable**. We can't modify them.\n",
    "\n",
    "**Going between strings and lists: .split() and .join()**\n",
    "\n",
    "- `str.split()` turns a string into a list of smaller strings, breaking on whitespace by default.\n",
    "- `str.join()` takes us in the other direction, sewing a list of strings up into one long string, using the string it was called on as a separator"
   ]
  },
  {
   "cell_type": "code",
   "execution_count": null,
   "id": "750cdcea",
   "metadata": {},
   "outputs": [],
   "source": []
  },
  {
   "cell_type": "code",
   "execution_count": null,
   "id": "8dfa9c0b",
   "metadata": {},
   "outputs": [],
   "source": []
  },
  {
   "cell_type": "markdown",
   "id": "0900af63",
   "metadata": {},
   "source": [
    "## Indexing and Slicing\n",
    "\n",
    "\n",
    "**Indexing**\n",
    "Indexing is used to obtain individual elements.\n",
    "\n",
    "We can refer to any item in the list or string according to its position in the list (first, second, third, etc)\n",
    "\n",
    "\n",
    "**Slicing**\n",
    "Slicing is used to obtain a sequence of elements (using two index).\n",
    "\n",
    "You can also pull a segment of a list (for instance, the first three entries or the last two entries). This is called slicing.\n",
    "\n",
    "- Indexing starts from 0. \n",
    "- Index 0 represents the first element in the sequence.\n",
    "- Negative indexing starts from -1. \n",
    "- Index -1 represents the last element in the sequence.\n"
   ]
  },
  {
   "cell_type": "markdown",
   "id": "94648f4c",
   "metadata": {},
   "source": []
  },
  {
   "cell_type": "code",
   "execution_count": null,
   "id": "5ba43a59",
   "metadata": {},
   "outputs": [],
   "source": []
  },
  {
   "cell_type": "code",
   "execution_count": null,
   "id": "226ab4d9",
   "metadata": {},
   "outputs": [],
   "source": []
  },
  {
   "cell_type": "markdown",
   "id": "b22c077c",
   "metadata": {},
   "source": [
    "## Dictionaries\n",
    "Dictionary is a type of python data type in which collections are **unordered**, and **values** are in pairs called **key-value pairs**.\n",
    "\n",
    " This type of data type is useful when there is a high volume of data. Braces {} (curly brackets) are used to define dictionaries data type in Python. A Pair in the dictionary data type is an item which is represented as key:value. **The value and the key can be of any data type.**"
   ]
  },
  {
   "cell_type": "code",
   "execution_count": 54,
   "id": "b815c644",
   "metadata": {},
   "outputs": [
    {
     "data": {
      "text/plain": [
       "{}"
      ]
     },
     "execution_count": 54,
     "metadata": {},
     "output_type": "execute_result"
    }
   ],
   "source": [
    "# Creating dictionaries\n",
    "\n",
    "dict()\n",
    "\n"
   ]
  },
  {
   "cell_type": "code",
   "execution_count": null,
   "id": "aa0bf7c4",
   "metadata": {},
   "outputs": [],
   "source": [
    "dictionary = {'key':'value'}"
   ]
  },
  {
   "cell_type": "code",
   "execution_count": 59,
   "id": "070f3f22",
   "metadata": {},
   "outputs": [
    {
     "data": {
      "text/plain": [
       "{'name': 'Damilola', 'age': 23, 'gender': 'Male'}"
      ]
     },
     "execution_count": 59,
     "metadata": {},
     "output_type": "execute_result"
    }
   ],
   "source": [
    "bio = {'name':'Damilola', 'age':23, 'gender': 'Male'}\n",
    "\n",
    "bio"
   ]
  },
  {
   "cell_type": "code",
   "execution_count": 60,
   "id": "fcf29a3b",
   "metadata": {},
   "outputs": [
    {
     "data": {
      "text/plain": [
       "('Damilola', 23)"
      ]
     },
     "execution_count": 60,
     "metadata": {},
     "output_type": "execute_result"
    }
   ],
   "source": [
    "bio['name'] , bio['age']"
   ]
  },
  {
   "cell_type": "code",
   "execution_count": 56,
   "id": "3e406d4e",
   "metadata": {},
   "outputs": [
    {
     "data": {
      "text/plain": [
       "{}"
      ]
     },
     "execution_count": 56,
     "metadata": {},
     "output_type": "execute_result"
    }
   ],
   "source": [
    "dictionary"
   ]
  },
  {
   "cell_type": "code",
   "execution_count": null,
   "id": "1e4af7af",
   "metadata": {},
   "outputs": [],
   "source": [
    "help(bio)"
   ]
  },
  {
   "cell_type": "code",
   "execution_count": 61,
   "id": "6c4791c9",
   "metadata": {},
   "outputs": [
    {
     "data": {
      "text/plain": [
       "dict_keys(['name', 'age', 'gender'])"
      ]
     },
     "execution_count": 61,
     "metadata": {},
     "output_type": "execute_result"
    }
   ],
   "source": [
    "bio.keys()"
   ]
  },
  {
   "cell_type": "code",
   "execution_count": 63,
   "id": "d04fd44d",
   "metadata": {},
   "outputs": [
    {
     "data": {
      "text/plain": [
       "dict_items([('name', 'Damilola'), ('age', 23), ('gender', 'Male')])"
      ]
     },
     "execution_count": 63,
     "metadata": {},
     "output_type": "execute_result"
    }
   ],
   "source": [
    "bio.items()"
   ]
  },
  {
   "cell_type": "code",
   "execution_count": 64,
   "id": "075a351a",
   "metadata": {},
   "outputs": [
    {
     "data": {
      "text/plain": [
       "dict_values(['Damilola', 23, 'Male'])"
      ]
     },
     "execution_count": 64,
     "metadata": {},
     "output_type": "execute_result"
    }
   ],
   "source": [
    "bio.values()"
   ]
  },
  {
   "cell_type": "code",
   "execution_count": null,
   "id": "d2390ed6",
   "metadata": {},
   "outputs": [],
   "source": [
    "# Manipulating dictionaries"
   ]
  },
  {
   "cell_type": "code",
   "execution_count": null,
   "id": "31aece78",
   "metadata": {},
   "outputs": [],
   "source": []
  },
  {
   "cell_type": "markdown",
   "id": "03729bf5",
   "metadata": {},
   "source": [
    "## Tuple\n",
    "\n",
    "A Tuple is a sequence of items that are in **order**, and it is not possible to modify the Tuples. \n",
    "\n",
    "**The main difference list and tuples are that tuple is immutable, which means it cannot be altered**. \n",
    "\n",
    "- Tuples are generally faster than the list data type in Python because it cannot be changed or modified like list datatype. \n",
    "- The primary use of Tuples is to write-protect data. \n",
    "- Tuples can be represented by using parentheses (), and \n",
    "- commas are used to separate the items. \n",
    "\n",
    "Days of the week, Months of the year, DOB, etc"
   ]
  },
  {
   "cell_type": "code",
   "execution_count": 65,
   "id": "77a34425",
   "metadata": {},
   "outputs": [
    {
     "data": {
      "text/plain": [
       "()"
      ]
     },
     "execution_count": 65,
     "metadata": {},
     "output_type": "execute_result"
    }
   ],
   "source": [
    "tuple()"
   ]
  },
  {
   "cell_type": "code",
   "execution_count": 66,
   "id": "6a32273b",
   "metadata": {},
   "outputs": [],
   "source": [
    "test = ()"
   ]
  },
  {
   "cell_type": "code",
   "execution_count": 67,
   "id": "53410d03",
   "metadata": {},
   "outputs": [
    {
     "data": {
      "text/plain": [
       "tuple"
      ]
     },
     "execution_count": 67,
     "metadata": {},
     "output_type": "execute_result"
    }
   ],
   "source": [
    "type(test)"
   ]
  },
  {
   "cell_type": "code",
   "execution_count": 68,
   "id": "d770ecd7",
   "metadata": {},
   "outputs": [
    {
     "name": "stdout",
     "output_type": "stream",
     "text": [
      "Help on class tuple in module builtins:\n",
      "\n",
      "class tuple(object)\n",
      " |  tuple(iterable=(), /)\n",
      " |  \n",
      " |  Built-in immutable sequence.\n",
      " |  \n",
      " |  If no argument is given, the constructor returns an empty tuple.\n",
      " |  If iterable is specified the tuple is initialized from iterable's items.\n",
      " |  \n",
      " |  If the argument is a tuple, the return value is the same object.\n",
      " |  \n",
      " |  Built-in subclasses:\n",
      " |      asyncgen_hooks\n",
      " |      UnraisableHookArgs\n",
      " |  \n",
      " |  Methods defined here:\n",
      " |  \n",
      " |  __add__(self, value, /)\n",
      " |      Return self+value.\n",
      " |  \n",
      " |  __contains__(self, key, /)\n",
      " |      Return key in self.\n",
      " |  \n",
      " |  __eq__(self, value, /)\n",
      " |      Return self==value.\n",
      " |  \n",
      " |  __ge__(self, value, /)\n",
      " |      Return self>=value.\n",
      " |  \n",
      " |  __getattribute__(self, name, /)\n",
      " |      Return getattr(self, name).\n",
      " |  \n",
      " |  __getitem__(self, key, /)\n",
      " |      Return self[key].\n",
      " |  \n",
      " |  __getnewargs__(self, /)\n",
      " |  \n",
      " |  __gt__(self, value, /)\n",
      " |      Return self>value.\n",
      " |  \n",
      " |  __hash__(self, /)\n",
      " |      Return hash(self).\n",
      " |  \n",
      " |  __iter__(self, /)\n",
      " |      Implement iter(self).\n",
      " |  \n",
      " |  __le__(self, value, /)\n",
      " |      Return self<=value.\n",
      " |  \n",
      " |  __len__(self, /)\n",
      " |      Return len(self).\n",
      " |  \n",
      " |  __lt__(self, value, /)\n",
      " |      Return self<value.\n",
      " |  \n",
      " |  __mul__(self, value, /)\n",
      " |      Return self*value.\n",
      " |  \n",
      " |  __ne__(self, value, /)\n",
      " |      Return self!=value.\n",
      " |  \n",
      " |  __repr__(self, /)\n",
      " |      Return repr(self).\n",
      " |  \n",
      " |  __rmul__(self, value, /)\n",
      " |      Return value*self.\n",
      " |  \n",
      " |  count(self, value, /)\n",
      " |      Return number of occurrences of value.\n",
      " |  \n",
      " |  index(self, value, start=0, stop=9223372036854775807, /)\n",
      " |      Return first index of value.\n",
      " |      \n",
      " |      Raises ValueError if the value is not present.\n",
      " |  \n",
      " |  ----------------------------------------------------------------------\n",
      " |  Class methods defined here:\n",
      " |  \n",
      " |  __class_getitem__(...) from builtins.type\n",
      " |      See PEP 585\n",
      " |  \n",
      " |  ----------------------------------------------------------------------\n",
      " |  Static methods defined here:\n",
      " |  \n",
      " |  __new__(*args, **kwargs) from builtins.type\n",
      " |      Create and return a new object.  See help(type) for accurate signature.\n",
      "\n"
     ]
    }
   ],
   "source": [
    "help(tuple)"
   ]
  },
  {
   "cell_type": "code",
   "execution_count": null,
   "id": "c0dd0411",
   "metadata": {},
   "outputs": [],
   "source": []
  },
  {
   "cell_type": "markdown",
   "id": "407b40ea",
   "metadata": {},
   "source": [
    "## Set\n",
    "\n",
    "A Set is a collection of **Unique items that are not in order is called Set**. \n",
    "\n",
    "Braces **{   }** are used to defined set and a comma is used to separate values. \n",
    "\n",
    "One will find that the items are unordered in a set data type.\n",
    "\n",
    "- Duplicates are eliminated in a set and set only keeps unique values. \n",
    "- Operations like intersection and union can be performed on two sets. "
   ]
  },
  {
   "cell_type": "code",
   "execution_count": 69,
   "id": "93845bb5",
   "metadata": {},
   "outputs": [
    {
     "data": {
      "text/plain": [
       "set()"
      ]
     },
     "execution_count": 69,
     "metadata": {},
     "output_type": "execute_result"
    }
   ],
   "source": [
    "set()"
   ]
  },
  {
   "cell_type": "code",
   "execution_count": 70,
   "id": "2208480d",
   "metadata": {},
   "outputs": [],
   "source": [
    "test = set()"
   ]
  },
  {
   "cell_type": "code",
   "execution_count": 71,
   "id": "872cbdc8",
   "metadata": {},
   "outputs": [
    {
     "data": {
      "text/plain": [
       "set"
      ]
     },
     "execution_count": 71,
     "metadata": {},
     "output_type": "execute_result"
    }
   ],
   "source": [
    "type(test)"
   ]
  },
  {
   "cell_type": "code",
   "execution_count": 72,
   "id": "b7e638d5",
   "metadata": {},
   "outputs": [],
   "source": [
    "fruits = ['Mango', 'rice', 'mango', 'rice']"
   ]
  },
  {
   "cell_type": "code",
   "execution_count": 74,
   "id": "1220d639",
   "metadata": {},
   "outputs": [
    {
     "data": {
      "text/plain": [
       "{'Mango', 'mango', 'rice'}"
      ]
     },
     "execution_count": 74,
     "metadata": {},
     "output_type": "execute_result"
    }
   ],
   "source": [
    "set(fruits)"
   ]
  },
  {
   "cell_type": "code",
   "execution_count": 76,
   "id": "6727f05e",
   "metadata": {},
   "outputs": [],
   "source": [
    "fruit = {'Mango', 'rice', 'mango', 'rice'}"
   ]
  },
  {
   "cell_type": "code",
   "execution_count": 77,
   "id": "1dac2158",
   "metadata": {},
   "outputs": [
    {
     "data": {
      "text/plain": [
       "{'Mango', 'mango', 'rice'}"
      ]
     },
     "execution_count": 77,
     "metadata": {},
     "output_type": "execute_result"
    }
   ],
   "source": [
    "fruit"
   ]
  },
  {
   "cell_type": "code",
   "execution_count": null,
   "id": "f339fb1c",
   "metadata": {},
   "outputs": [],
   "source": []
  },
  {
   "cell_type": "markdown",
   "id": "9feac85f",
   "metadata": {},
   "source": [
    "## Booleans\n",
    "There can be only two types of value in the Boolean data type of Python, and that is True or False. "
   ]
  },
  {
   "cell_type": "code",
   "execution_count": 78,
   "id": "d55818b2",
   "metadata": {},
   "outputs": [
    {
     "data": {
      "text/plain": [
       "bool"
      ]
     },
     "execution_count": 78,
     "metadata": {},
     "output_type": "execute_result"
    }
   ],
   "source": [
    "type(True)"
   ]
  },
  {
   "cell_type": "code",
   "execution_count": 79,
   "id": "34ea83d4",
   "metadata": {},
   "outputs": [
    {
     "data": {
      "text/plain": [
       "bool"
      ]
     },
     "execution_count": 79,
     "metadata": {},
     "output_type": "execute_result"
    }
   ],
   "source": [
    "type(False)"
   ]
  },
  {
   "cell_type": "code",
   "execution_count": 80,
   "id": "8c8a8032",
   "metadata": {},
   "outputs": [],
   "source": [
    "yes = True"
   ]
  },
  {
   "cell_type": "code",
   "execution_count": 81,
   "id": "f43e7a9c",
   "metadata": {},
   "outputs": [
    {
     "data": {
      "text/plain": [
       "(1, 1)"
      ]
     },
     "execution_count": 81,
     "metadata": {},
     "output_type": "execute_result"
    }
   ],
   "source": [
    "yes.as_integer_ratio()"
   ]
  },
  {
   "cell_type": "code",
   "execution_count": null,
   "id": "d3e5de9f",
   "metadata": {},
   "outputs": [],
   "source": []
  },
  {
   "cell_type": "markdown",
   "id": "2ac5b954",
   "metadata": {},
   "source": [
    "## Conditions\n",
    "In programming, conditions are statements that are either **True or False**. \n",
    "There are many different ways to write conditions in Python, but some of the most common ways of writing conditions just compare two different values. \n",
    "\n",
    "For instance, you can check if 2 is greater than 3\n",
    "\n",
    "#### Comparison Operators\n",
    "Comparison operators are used to compare two values:\n",
    "\n",
    "|SN                |Symbol                          |Meaning                         |\n",
    "|----------------|-------------------------------|-----------------------------|\n",
    "|1|==| Equals to\n",
    "|2| !=| Not Equals to\n",
    "|3|> |Greater than\n",
    "|4|>= |Greater than or equals to\n",
    "|5|<| Less than\n",
    "|6| <=| Less than of equals to"
   ]
  },
  {
   "cell_type": "code",
   "execution_count": null,
   "id": "50c4031b",
   "metadata": {},
   "outputs": [],
   "source": []
  },
  {
   "cell_type": "code",
   "execution_count": null,
   "id": "70e9f2e9",
   "metadata": {},
   "outputs": [],
   "source": []
  },
  {
   "cell_type": "code",
   "execution_count": null,
   "id": "460289b2",
   "metadata": {},
   "outputs": [],
   "source": []
  },
  {
   "cell_type": "code",
   "execution_count": null,
   "id": "f26920ba",
   "metadata": {},
   "outputs": [],
   "source": []
  },
  {
   "cell_type": "markdown",
   "id": "cb0080e1",
   "metadata": {},
   "source": [
    "#### Conditional statements\n",
    "Conditional statements use conditions to modify how your function runs. \n",
    "\n",
    "They check the value of a condition, and if the condition evaluates to True, then a certain block of code is executed. (Otherwise, if the condition is False, then the code is not run."
   ]
  },
  {
   "cell_type": "code",
   "execution_count": null,
   "id": "40757f9b",
   "metadata": {},
   "outputs": [],
   "source": []
  },
  {
   "cell_type": "code",
   "execution_count": null,
   "id": "a3a84eca",
   "metadata": {},
   "outputs": [],
   "source": []
  },
  {
   "cell_type": "markdown",
   "id": "174662e2",
   "metadata": {},
   "source": [
    "## If, Elif, Else Statement\n",
    "The Python **if statement** is same as it is with other programming languages. \n",
    "It executes a set of statements conditionally, based on the value of a logical expression.\n",
    "\n",
    "In Python **if .. else statement**, if has two blocks, one following the expression and other following the else clause.\n",
    "\n",
    "The **if-elif-else statement** is used to conditionally execute a statement or a block of statements. \n",
    "\n",
    "Conditions can be true or false, execute one thing when the condition is true, something else when the condition is false.\n"
   ]
  },
  {
   "cell_type": "code",
   "execution_count": null,
   "id": "2eb8a561",
   "metadata": {},
   "outputs": [],
   "source": []
  },
  {
   "cell_type": "code",
   "execution_count": null,
   "id": "be475f0c",
   "metadata": {},
   "outputs": [],
   "source": []
  },
  {
   "cell_type": "code",
   "execution_count": null,
   "id": "cae17984",
   "metadata": {},
   "outputs": [],
   "source": []
  },
  {
   "cell_type": "markdown",
   "id": "9dfdd03e",
   "metadata": {},
   "source": [
    "## For Loop\n",
    "A for loop is used for iterating over a sequence (that is either a list, a tuple, a dictionary, a set, or a string).\n",
    "\n",
    "This is less like the for keyword in other programming languages, and works more like an iterator method as found in other object-orientated programming languages.\n",
    "\n",
    "With the for loop we can execute a set of statements, once for each item in a list, tuple, set etc."
   ]
  },
  {
   "cell_type": "code",
   "execution_count": null,
   "id": "c6562b42",
   "metadata": {},
   "outputs": [],
   "source": []
  },
  {
   "cell_type": "code",
   "execution_count": null,
   "id": "5b399deb",
   "metadata": {},
   "outputs": [],
   "source": []
  },
  {
   "cell_type": "markdown",
   "id": "86d8d834",
   "metadata": {},
   "source": [
    "## While Loop\n",
    "\n",
    "The while loop in Python is used to iterate over a block of code as long as the test expression (condition) is true.\n",
    "\n",
    "We generally use this loop when we don't know the number of times to iterate beforehand."
   ]
  },
  {
   "cell_type": "code",
   "execution_count": null,
   "id": "9ee0e5c1",
   "metadata": {},
   "outputs": [],
   "source": []
  },
  {
   "cell_type": "code",
   "execution_count": null,
   "id": "8991a4d5",
   "metadata": {},
   "outputs": [],
   "source": []
  },
  {
   "cell_type": "code",
   "execution_count": null,
   "id": "7736bfe7",
   "metadata": {},
   "outputs": [],
   "source": []
  },
  {
   "cell_type": "markdown",
   "id": "2dc374f4",
   "metadata": {},
   "source": [
    "## More Functions\n",
    "\n",
    "In Python, a function is a group of related statements that performs a specific task.\n",
    "\n",
    "Functions help break our program into smaller and modular chunks. As our program grows larger and larger, functions make it more organized and manageable.\n",
    "\n",
    "Furthermore, it avoids repetition and makes the code reusable."
   ]
  },
  {
   "cell_type": "code",
   "execution_count": null,
   "id": "afcea031",
   "metadata": {},
   "outputs": [],
   "source": []
  },
  {
   "cell_type": "code",
   "execution_count": null,
   "id": "0ce69ce0",
   "metadata": {},
   "outputs": [],
   "source": []
  },
  {
   "cell_type": "code",
   "execution_count": null,
   "id": "7fa66d05",
   "metadata": {},
   "outputs": [],
   "source": []
  },
  {
   "cell_type": "markdown",
   "id": "81ce2818",
   "metadata": {},
   "source": [
    "### Map Function\n",
    "Mapping consists of applying a transformation function to an iterable to produce a new iterable. Items in the new iterable are produced by calling the transformation function on each item in the original iterable."
   ]
  },
  {
   "cell_type": "code",
   "execution_count": null,
   "id": "1eed32cc",
   "metadata": {},
   "outputs": [],
   "source": []
  },
  {
   "cell_type": "code",
   "execution_count": null,
   "id": "db39f3f0",
   "metadata": {},
   "outputs": [],
   "source": []
  },
  {
   "cell_type": "markdown",
   "id": "fb462ef5",
   "metadata": {},
   "source": [
    "### Filter Function\n",
    "Filtering consists of applying a predicate or Boolean-valued function to an iterable to generate a new iterable. Items in the new iterable are produced by filtering out any items in the original iterable that make the predicate function return false."
   ]
  },
  {
   "cell_type": "code",
   "execution_count": null,
   "id": "c5533861",
   "metadata": {},
   "outputs": [],
   "source": []
  },
  {
   "cell_type": "code",
   "execution_count": null,
   "id": "dc125b0d",
   "metadata": {},
   "outputs": [],
   "source": []
  },
  {
   "cell_type": "code",
   "execution_count": null,
   "id": "cedf53cd",
   "metadata": {},
   "outputs": [],
   "source": []
  },
  {
   "cell_type": "markdown",
   "id": "7c501903",
   "metadata": {},
   "source": [
    "### Lambda Expressions\n",
    "A lambda function is a small anonymous function.\n",
    "\n",
    "A lambda function can take any number of arguments, but can only have one expression."
   ]
  },
  {
   "cell_type": "code",
   "execution_count": null,
   "id": "f12bb305",
   "metadata": {},
   "outputs": [],
   "source": []
  },
  {
   "cell_type": "code",
   "execution_count": null,
   "id": "37a55f56",
   "metadata": {},
   "outputs": [],
   "source": []
  }
 ],
 "metadata": {
  "kernelspec": {
   "display_name": "Python 3 (ipykernel)",
   "language": "python",
   "name": "python3"
  },
  "language_info": {
   "codemirror_mode": {
    "name": "ipython",
    "version": 3
   },
   "file_extension": ".py",
   "mimetype": "text/x-python",
   "name": "python",
   "nbconvert_exporter": "python",
   "pygments_lexer": "ipython3",
   "version": "3.9.12"
  }
 },
 "nbformat": 4,
 "nbformat_minor": 5
}
