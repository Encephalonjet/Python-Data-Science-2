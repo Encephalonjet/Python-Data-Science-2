{
 "cells": [
  {
   "cell_type": "markdown",
   "id": "c3bd565c",
   "metadata": {},
   "source": [
    "# Project Title (Supermart Grocery Sales)\n",
    "\n",
    "Problem Statement:\n",
    "Filtering through the dataset, it is valid to make some assertions that the store owner is most likely looking into daily sales without a more holistic view of where the parameters are more beneficial to her store. From observations, we discoverd  what we can do to make a more detailed analysis in the following areas:\n",
    "1. Which region makes the most profit\n",
    "2. Which city makes the most profit\n",
    "3. Which category and sub-category makes the most\n",
    "4. Which category and sub-category was patronized more\n",
    "5. Most Outstanding customer in terms of patronage\n",
    "6. Frequency of purchase, by which customer, ordered by state, region and subcategories\n",
    "7. What discount they get per item\n",
    "8. Trend identification in the year\n",
    "9. Correlation between sales and discount\n",
    "\n",
    "### A short description of the project\n",
    "\n",
    "This project is a supermart grocrey sales dataset which shows important details of daily sales of customers in different regions and cities in a particular state called \"Tamil Nadu\".\n",
    "\n"
   ]
  },
  {
   "cell_type": "code",
   "execution_count": 2,
   "id": "d8aa5eda",
   "metadata": {},
   "outputs": [],
   "source": [
    "#import python libraries for data manipulation and visualization\n",
    "\n",
    "import pandas as pd\n",
    "import numpy as np\n",
    "\n",
    "#visualization\n",
    "import matplotlib.pyplot as plt\n",
    "import seaborn as sns"
   ]
  },
  {
   "cell_type": "markdown",
   "id": "d6f64705",
   "metadata": {},
   "source": [
    "# Data Inspection\n",
    "\n",
    "load data set with this code:df=pd.read_csv('filename.csv')\n",
    "This data was downloaded from Kaggle,click on this link to access the data set:\n",
    "https://www.kaggle.com/datasets/mohamedharris/supermart-grocery-sales-retail-analytics-dataset\n",
    "\n",
    "supermart data has 9994 Rows and 11 columns with no missing values.\n",
    "\n",
    "from my observations, Date data type and column names will be modified.\n",
    "    "
   ]
  },
  {
   "cell_type": "code",
   "execution_count": 4,
   "id": "88acc8af",
   "metadata": {},
   "outputs": [],
   "source": [
    "# load the data\n",
    "sales_record = pd.read_csv('Supermart Grocery Sales.csv')"
   ]
  },
  {
   "cell_type": "code",
   "execution_count": 5,
   "id": "6206c189",
   "metadata": {},
   "outputs": [
    {
     "data": {
      "text/plain": [
       "(9994, 11)"
      ]
     },
     "execution_count": 5,
     "metadata": {},
     "output_type": "execute_result"
    }
   ],
   "source": [
    "#how many rows and columns?\n",
    "#uses df.shape to check the total rows and columns\n",
    "sales_record.shape"
   ]
  },
  {
   "cell_type": "code",
   "execution_count": 7,
   "id": "c0941ae8",
   "metadata": {},
   "outputs": [
    {
     "data": {
      "text/plain": [
       "Order ID         0\n",
       "Customer Name    0\n",
       "Category         0\n",
       "Sub Category     0\n",
       "City             0\n",
       "Order Date       0\n",
       "Region           0\n",
       "Sales            0\n",
       "Discount         0\n",
       "Profit           0\n",
       "State            0\n",
       "dtype: int64"
      ]
     },
     "execution_count": 7,
     "metadata": {},
     "output_type": "execute_result"
    }
   ],
   "source": [
    "#does it have missing values?\n",
    "#lets check if our data has missing values using.isna().sum() to give us the total number of the missing values.\n",
    "sales_record.isna().sum()"
   ]
  },
  {
   "cell_type": "code",
   "execution_count": 9,
   "id": "8361080b",
   "metadata": {},
   "outputs": [
    {
     "data": {
      "text/html": [
       "<div>\n",
       "<style scoped>\n",
       "    .dataframe tbody tr th:only-of-type {\n",
       "        vertical-align: middle;\n",
       "    }\n",
       "\n",
       "    .dataframe tbody tr th {\n",
       "        vertical-align: top;\n",
       "    }\n",
       "\n",
       "    .dataframe thead th {\n",
       "        text-align: right;\n",
       "    }\n",
       "</style>\n",
       "<table border=\"1\" class=\"dataframe\">\n",
       "  <thead>\n",
       "    <tr style=\"text-align: right;\">\n",
       "      <th></th>\n",
       "      <th>Order ID</th>\n",
       "      <th>Customer Name</th>\n",
       "      <th>Category</th>\n",
       "      <th>Sub Category</th>\n",
       "      <th>City</th>\n",
       "      <th>Order Date</th>\n",
       "      <th>Region</th>\n",
       "      <th>Sales</th>\n",
       "      <th>Discount</th>\n",
       "      <th>Profit</th>\n",
       "      <th>State</th>\n",
       "    </tr>\n",
       "  </thead>\n",
       "  <tbody>\n",
       "    <tr>\n",
       "      <th>0</th>\n",
       "      <td>OD1</td>\n",
       "      <td>Harish</td>\n",
       "      <td>Oil &amp; Masala</td>\n",
       "      <td>Masalas</td>\n",
       "      <td>Vellore</td>\n",
       "      <td>11-08-2017</td>\n",
       "      <td>North</td>\n",
       "      <td>1254</td>\n",
       "      <td>0.12</td>\n",
       "      <td>401.28</td>\n",
       "      <td>Tamil Nadu</td>\n",
       "    </tr>\n",
       "    <tr>\n",
       "      <th>1</th>\n",
       "      <td>OD2</td>\n",
       "      <td>Sudha</td>\n",
       "      <td>Beverages</td>\n",
       "      <td>Health Drinks</td>\n",
       "      <td>Krishnagiri</td>\n",
       "      <td>11-08-2017</td>\n",
       "      <td>South</td>\n",
       "      <td>749</td>\n",
       "      <td>0.18</td>\n",
       "      <td>149.80</td>\n",
       "      <td>Tamil Nadu</td>\n",
       "    </tr>\n",
       "    <tr>\n",
       "      <th>2</th>\n",
       "      <td>OD3</td>\n",
       "      <td>Hussain</td>\n",
       "      <td>Food Grains</td>\n",
       "      <td>Atta &amp; Flour</td>\n",
       "      <td>Perambalur</td>\n",
       "      <td>06-12-2017</td>\n",
       "      <td>West</td>\n",
       "      <td>2360</td>\n",
       "      <td>0.21</td>\n",
       "      <td>165.20</td>\n",
       "      <td>Tamil Nadu</td>\n",
       "    </tr>\n",
       "    <tr>\n",
       "      <th>3</th>\n",
       "      <td>OD4</td>\n",
       "      <td>Jackson</td>\n",
       "      <td>Fruits &amp; Veggies</td>\n",
       "      <td>Fresh Vegetables</td>\n",
       "      <td>Dharmapuri</td>\n",
       "      <td>10-11-2016</td>\n",
       "      <td>South</td>\n",
       "      <td>896</td>\n",
       "      <td>0.25</td>\n",
       "      <td>89.60</td>\n",
       "      <td>Tamil Nadu</td>\n",
       "    </tr>\n",
       "    <tr>\n",
       "      <th>4</th>\n",
       "      <td>OD5</td>\n",
       "      <td>Ridhesh</td>\n",
       "      <td>Food Grains</td>\n",
       "      <td>Organic Staples</td>\n",
       "      <td>Ooty</td>\n",
       "      <td>10-11-2016</td>\n",
       "      <td>South</td>\n",
       "      <td>2355</td>\n",
       "      <td>0.26</td>\n",
       "      <td>918.45</td>\n",
       "      <td>Tamil Nadu</td>\n",
       "    </tr>\n",
       "    <tr>\n",
       "      <th>5</th>\n",
       "      <td>OD6</td>\n",
       "      <td>Adavan</td>\n",
       "      <td>Food Grains</td>\n",
       "      <td>Organic Staples</td>\n",
       "      <td>Dharmapuri</td>\n",
       "      <td>06-09-2015</td>\n",
       "      <td>West</td>\n",
       "      <td>2305</td>\n",
       "      <td>0.26</td>\n",
       "      <td>322.70</td>\n",
       "      <td>Tamil Nadu</td>\n",
       "    </tr>\n",
       "    <tr>\n",
       "      <th>6</th>\n",
       "      <td>OD7</td>\n",
       "      <td>Jonas</td>\n",
       "      <td>Fruits &amp; Veggies</td>\n",
       "      <td>Fresh Vegetables</td>\n",
       "      <td>Trichy</td>\n",
       "      <td>06-09-2015</td>\n",
       "      <td>West</td>\n",
       "      <td>826</td>\n",
       "      <td>0.33</td>\n",
       "      <td>346.92</td>\n",
       "      <td>Tamil Nadu</td>\n",
       "    </tr>\n",
       "    <tr>\n",
       "      <th>7</th>\n",
       "      <td>OD8</td>\n",
       "      <td>Hafiz</td>\n",
       "      <td>Fruits &amp; Veggies</td>\n",
       "      <td>Fresh Fruits</td>\n",
       "      <td>Ramanadhapuram</td>\n",
       "      <td>06-09-2015</td>\n",
       "      <td>West</td>\n",
       "      <td>1847</td>\n",
       "      <td>0.32</td>\n",
       "      <td>147.76</td>\n",
       "      <td>Tamil Nadu</td>\n",
       "    </tr>\n",
       "    <tr>\n",
       "      <th>8</th>\n",
       "      <td>OD9</td>\n",
       "      <td>Hafiz</td>\n",
       "      <td>Bakery</td>\n",
       "      <td>Biscuits</td>\n",
       "      <td>Tirunelveli</td>\n",
       "      <td>06-09-2015</td>\n",
       "      <td>West</td>\n",
       "      <td>791</td>\n",
       "      <td>0.23</td>\n",
       "      <td>181.93</td>\n",
       "      <td>Tamil Nadu</td>\n",
       "    </tr>\n",
       "    <tr>\n",
       "      <th>9</th>\n",
       "      <td>OD10</td>\n",
       "      <td>Krithika</td>\n",
       "      <td>Bakery</td>\n",
       "      <td>Cakes</td>\n",
       "      <td>Chennai</td>\n",
       "      <td>06-09-2015</td>\n",
       "      <td>West</td>\n",
       "      <td>1795</td>\n",
       "      <td>0.27</td>\n",
       "      <td>484.65</td>\n",
       "      <td>Tamil Nadu</td>\n",
       "    </tr>\n",
       "  </tbody>\n",
       "</table>\n",
       "</div>"
      ],
      "text/plain": [
       "  Order ID Customer Name          Category      Sub Category            City  \\\n",
       "0      OD1        Harish      Oil & Masala           Masalas         Vellore   \n",
       "1      OD2         Sudha         Beverages     Health Drinks     Krishnagiri   \n",
       "2      OD3       Hussain       Food Grains      Atta & Flour      Perambalur   \n",
       "3      OD4       Jackson  Fruits & Veggies  Fresh Vegetables      Dharmapuri   \n",
       "4      OD5       Ridhesh       Food Grains   Organic Staples            Ooty   \n",
       "5      OD6        Adavan       Food Grains   Organic Staples      Dharmapuri   \n",
       "6      OD7         Jonas  Fruits & Veggies  Fresh Vegetables          Trichy   \n",
       "7      OD8         Hafiz  Fruits & Veggies      Fresh Fruits  Ramanadhapuram   \n",
       "8      OD9         Hafiz            Bakery          Biscuits     Tirunelveli   \n",
       "9     OD10      Krithika            Bakery             Cakes         Chennai   \n",
       "\n",
       "   Order Date Region  Sales  Discount  Profit       State  \n",
       "0  11-08-2017  North   1254      0.12  401.28  Tamil Nadu  \n",
       "1  11-08-2017  South    749      0.18  149.80  Tamil Nadu  \n",
       "2  06-12-2017   West   2360      0.21  165.20  Tamil Nadu  \n",
       "3  10-11-2016  South    896      0.25   89.60  Tamil Nadu  \n",
       "4  10-11-2016  South   2355      0.26  918.45  Tamil Nadu  \n",
       "5  06-09-2015   West   2305      0.26  322.70  Tamil Nadu  \n",
       "6  06-09-2015   West    826      0.33  346.92  Tamil Nadu  \n",
       "7  06-09-2015   West   1847      0.32  147.76  Tamil Nadu  \n",
       "8  06-09-2015   West    791      0.23  181.93  Tamil Nadu  \n",
       "9  06-09-2015   West   1795      0.27  484.65  Tamil Nadu  "
      ]
     },
     "execution_count": 9,
     "metadata": {},
     "output_type": "execute_result"
    }
   ],
   "source": [
    "##let's view our first 10 data set by using the .head()function:\n",
    "sales_record.head(10)"
   ]
  },
  {
   "cell_type": "code",
   "execution_count": 8,
   "id": "cd6944b0",
   "metadata": {},
   "outputs": [
    {
     "name": "stdout",
     "output_type": "stream",
     "text": [
      "<class 'pandas.core.frame.DataFrame'>\n",
      "RangeIndex: 9994 entries, 0 to 9993\n",
      "Data columns (total 11 columns):\n",
      " #   Column         Non-Null Count  Dtype  \n",
      "---  ------         --------------  -----  \n",
      " 0   Order ID       9994 non-null   object \n",
      " 1   Customer Name  9994 non-null   object \n",
      " 2   Category       9994 non-null   object \n",
      " 3   Sub Category   9994 non-null   object \n",
      " 4   City           9994 non-null   object \n",
      " 5   Order Date     9994 non-null   object \n",
      " 6   Region         9994 non-null   object \n",
      " 7   Sales          9994 non-null   int64  \n",
      " 8   Discount       9994 non-null   float64\n",
      " 9   Profit         9994 non-null   float64\n",
      " 10  State          9994 non-null   object \n",
      "dtypes: float64(2), int64(1), object(8)\n",
      "memory usage: 859.0+ KB\n"
     ]
    }
   ],
   "source": [
    "## this is used to check the datatypes of your data columns and if they have thier supposed data types.\n",
    "##we can see that order date does not have the perfect data type and some column names have whitespace.\n",
    "sales_record.info()"
   ]
  },
  {
   "cell_type": "markdown",
   "id": "a25d8faf",
   "metadata": {},
   "source": [
    "# Data Cleansing\n",
    "To make my data clean, i will change the date format and remove whitespaces from my column names.\n",
    "Whitespace is the space before and/or after the actual text.\n",
    "we can remove the whitespace with replace function.\n"
   ]
  },
  {
   "cell_type": "code",
   "execution_count": 26,
   "id": "357a39ef",
   "metadata": {},
   "outputs": [
    {
     "data": {
      "text/html": [
       "<div>\n",
       "<style scoped>\n",
       "    .dataframe tbody tr th:only-of-type {\n",
       "        vertical-align: middle;\n",
       "    }\n",
       "\n",
       "    .dataframe tbody tr th {\n",
       "        vertical-align: top;\n",
       "    }\n",
       "\n",
       "    .dataframe thead th {\n",
       "        text-align: right;\n",
       "    }\n",
       "</style>\n",
       "<table border=\"1\" class=\"dataframe\">\n",
       "  <thead>\n",
       "    <tr style=\"text-align: right;\">\n",
       "      <th></th>\n",
       "      <th>Order ID</th>\n",
       "      <th>Customer Name</th>\n",
       "      <th>Category</th>\n",
       "      <th>Sub Category</th>\n",
       "      <th>City</th>\n",
       "      <th>Order Date</th>\n",
       "      <th>Region</th>\n",
       "      <th>Sales</th>\n",
       "      <th>Discount</th>\n",
       "      <th>Profit</th>\n",
       "      <th>State</th>\n",
       "    </tr>\n",
       "  </thead>\n",
       "  <tbody>\n",
       "    <tr>\n",
       "      <th>0</th>\n",
       "      <td>False</td>\n",
       "      <td>False</td>\n",
       "      <td>False</td>\n",
       "      <td>False</td>\n",
       "      <td>False</td>\n",
       "      <td>False</td>\n",
       "      <td>False</td>\n",
       "      <td>False</td>\n",
       "      <td>False</td>\n",
       "      <td>False</td>\n",
       "      <td>False</td>\n",
       "    </tr>\n",
       "    <tr>\n",
       "      <th>1</th>\n",
       "      <td>False</td>\n",
       "      <td>False</td>\n",
       "      <td>False</td>\n",
       "      <td>False</td>\n",
       "      <td>False</td>\n",
       "      <td>False</td>\n",
       "      <td>False</td>\n",
       "      <td>False</td>\n",
       "      <td>False</td>\n",
       "      <td>False</td>\n",
       "      <td>False</td>\n",
       "    </tr>\n",
       "    <tr>\n",
       "      <th>2</th>\n",
       "      <td>False</td>\n",
       "      <td>False</td>\n",
       "      <td>False</td>\n",
       "      <td>False</td>\n",
       "      <td>False</td>\n",
       "      <td>False</td>\n",
       "      <td>False</td>\n",
       "      <td>False</td>\n",
       "      <td>False</td>\n",
       "      <td>False</td>\n",
       "      <td>False</td>\n",
       "    </tr>\n",
       "    <tr>\n",
       "      <th>3</th>\n",
       "      <td>False</td>\n",
       "      <td>False</td>\n",
       "      <td>False</td>\n",
       "      <td>False</td>\n",
       "      <td>False</td>\n",
       "      <td>False</td>\n",
       "      <td>False</td>\n",
       "      <td>False</td>\n",
       "      <td>False</td>\n",
       "      <td>False</td>\n",
       "      <td>False</td>\n",
       "    </tr>\n",
       "    <tr>\n",
       "      <th>4</th>\n",
       "      <td>False</td>\n",
       "      <td>False</td>\n",
       "      <td>False</td>\n",
       "      <td>False</td>\n",
       "      <td>False</td>\n",
       "      <td>False</td>\n",
       "      <td>False</td>\n",
       "      <td>False</td>\n",
       "      <td>False</td>\n",
       "      <td>False</td>\n",
       "      <td>False</td>\n",
       "    </tr>\n",
       "    <tr>\n",
       "      <th>...</th>\n",
       "      <td>...</td>\n",
       "      <td>...</td>\n",
       "      <td>...</td>\n",
       "      <td>...</td>\n",
       "      <td>...</td>\n",
       "      <td>...</td>\n",
       "      <td>...</td>\n",
       "      <td>...</td>\n",
       "      <td>...</td>\n",
       "      <td>...</td>\n",
       "      <td>...</td>\n",
       "    </tr>\n",
       "    <tr>\n",
       "      <th>9989</th>\n",
       "      <td>False</td>\n",
       "      <td>False</td>\n",
       "      <td>False</td>\n",
       "      <td>False</td>\n",
       "      <td>False</td>\n",
       "      <td>False</td>\n",
       "      <td>False</td>\n",
       "      <td>False</td>\n",
       "      <td>False</td>\n",
       "      <td>False</td>\n",
       "      <td>False</td>\n",
       "    </tr>\n",
       "    <tr>\n",
       "      <th>9990</th>\n",
       "      <td>False</td>\n",
       "      <td>False</td>\n",
       "      <td>False</td>\n",
       "      <td>False</td>\n",
       "      <td>False</td>\n",
       "      <td>False</td>\n",
       "      <td>False</td>\n",
       "      <td>False</td>\n",
       "      <td>False</td>\n",
       "      <td>False</td>\n",
       "      <td>False</td>\n",
       "    </tr>\n",
       "    <tr>\n",
       "      <th>9991</th>\n",
       "      <td>False</td>\n",
       "      <td>False</td>\n",
       "      <td>False</td>\n",
       "      <td>False</td>\n",
       "      <td>False</td>\n",
       "      <td>False</td>\n",
       "      <td>False</td>\n",
       "      <td>False</td>\n",
       "      <td>False</td>\n",
       "      <td>False</td>\n",
       "      <td>False</td>\n",
       "    </tr>\n",
       "    <tr>\n",
       "      <th>9992</th>\n",
       "      <td>False</td>\n",
       "      <td>False</td>\n",
       "      <td>False</td>\n",
       "      <td>False</td>\n",
       "      <td>False</td>\n",
       "      <td>False</td>\n",
       "      <td>False</td>\n",
       "      <td>False</td>\n",
       "      <td>False</td>\n",
       "      <td>False</td>\n",
       "      <td>False</td>\n",
       "    </tr>\n",
       "    <tr>\n",
       "      <th>9993</th>\n",
       "      <td>False</td>\n",
       "      <td>False</td>\n",
       "      <td>False</td>\n",
       "      <td>False</td>\n",
       "      <td>False</td>\n",
       "      <td>False</td>\n",
       "      <td>False</td>\n",
       "      <td>False</td>\n",
       "      <td>False</td>\n",
       "      <td>False</td>\n",
       "      <td>False</td>\n",
       "    </tr>\n",
       "  </tbody>\n",
       "</table>\n",
       "<p>9994 rows × 11 columns</p>\n",
       "</div>"
      ],
      "text/plain": [
       "      Order ID  Customer Name  Category  Sub Category   City  Order Date  \\\n",
       "0        False          False     False         False  False       False   \n",
       "1        False          False     False         False  False       False   \n",
       "2        False          False     False         False  False       False   \n",
       "3        False          False     False         False  False       False   \n",
       "4        False          False     False         False  False       False   \n",
       "...        ...            ...       ...           ...    ...         ...   \n",
       "9989     False          False     False         False  False       False   \n",
       "9990     False          False     False         False  False       False   \n",
       "9991     False          False     False         False  False       False   \n",
       "9992     False          False     False         False  False       False   \n",
       "9993     False          False     False         False  False       False   \n",
       "\n",
       "      Region  Sales  Discount  Profit  State  \n",
       "0      False  False     False   False  False  \n",
       "1      False  False     False   False  False  \n",
       "2      False  False     False   False  False  \n",
       "3      False  False     False   False  False  \n",
       "4      False  False     False   False  False  \n",
       "...      ...    ...       ...     ...    ...  \n",
       "9989   False  False     False   False  False  \n",
       "9990   False  False     False   False  False  \n",
       "9991   False  False     False   False  False  \n",
       "9992   False  False     False   False  False  \n",
       "9993   False  False     False   False  False  \n",
       "\n",
       "[9994 rows x 11 columns]"
      ]
     },
     "execution_count": 26,
     "metadata": {},
     "output_type": "execute_result"
    }
   ],
   "source": [
    "#To check if there are null values in our dataset\n",
    "sales_record.isna()"
   ]
  },
  {
   "cell_type": "code",
   "execution_count": 27,
   "id": "1161c0a8",
   "metadata": {},
   "outputs": [
    {
     "data": {
      "text/plain": [
       "Order ID         0\n",
       "Customer Name    0\n",
       "Category         0\n",
       "Sub Category     0\n",
       "City             0\n",
       "Order Date       0\n",
       "Region           0\n",
       "Sales            0\n",
       "Discount         0\n",
       "Profit           0\n",
       "State            0\n",
       "dtype: int64"
      ]
     },
     "execution_count": 27,
     "metadata": {},
     "output_type": "execute_result"
    }
   ],
   "source": [
    "#To check the total null values in our dataset\n",
    "sales_record.isna().sum()"
   ]
  },
  {
   "cell_type": "code",
   "execution_count": 11,
   "id": "919d1ca1",
   "metadata": {},
   "outputs": [
    {
     "data": {
      "text/plain": [
       "Index(['Order ID', 'Customer Name', 'Category', 'Sub Category', 'City',\n",
       "       'Order Date', 'Region', 'Sales', 'Discount', 'Profit', 'State'],\n",
       "      dtype='object')"
      ]
     },
     "execution_count": 11,
     "metadata": {},
     "output_type": "execute_result"
    }
   ],
   "source": [
    "#Removing  whitespaces\n",
    "##lets view our columns: \n",
    "\n",
    "sales_record.columns"
   ]
  },
  {
   "cell_type": "code",
   "execution_count": 12,
   "id": "b0a3c6db",
   "metadata": {},
   "outputs": [],
   "source": [
    "###removing whitespaces in our columns  with str.replace function from ' ' to ''\n",
    "sales_record.columns = sales_record.columns.str.replace(' ', '_')"
   ]
  },
  {
   "cell_type": "code",
   "execution_count": 13,
   "id": "a67f841a",
   "metadata": {},
   "outputs": [
    {
     "data": {
      "text/plain": [
       "Index(['Order_ID', 'Customer_Name', 'Category', 'Sub_Category', 'City',\n",
       "       'Order_Date', 'Region', 'Sales', 'Discount', 'Profit', 'State'],\n",
       "      dtype='object')"
      ]
     },
     "execution_count": 13,
     "metadata": {},
     "output_type": "execute_result"
    }
   ],
   "source": [
    "sales_record.columns"
   ]
  },
  {
   "cell_type": "code",
   "execution_count": 14,
   "id": "db7aeb32",
   "metadata": {},
   "outputs": [],
   "source": [
    "##now lets change our date column datatype to the right dtype using to_datetime from panda library:\n",
    "sales_record['Order_Date'] = pd.to_datetime(sales_record['Order_Date'])"
   ]
  },
  {
   "cell_type": "code",
   "execution_count": 34,
   "id": "1d826a0a",
   "metadata": {},
   "outputs": [
    {
     "data": {
      "text/plain": [
       "0      2017-11-08\n",
       "1      2017-11-08\n",
       "2      2017-06-12\n",
       "3      2016-10-11\n",
       "4      2016-10-11\n",
       "          ...    \n",
       "9989   2015-12-24\n",
       "9990   2015-07-12\n",
       "9991   2017-06-06\n",
       "9992   2018-10-16\n",
       "9993   2018-04-17\n",
       "Name: Order_Date, Length: 9994, dtype: datetime64[ns]"
      ]
     },
     "execution_count": 34,
     "metadata": {},
     "output_type": "execute_result"
    }
   ],
   "source": [
    "##run this code and see the changes in our Order_Date column .\n",
    "sales_record['Order_Date']"
   ]
  },
  {
   "cell_type": "markdown",
   "id": "abc83ce7",
   "metadata": {},
   "source": [
    "# Data Visualization\n",
    "\n",
    "In this section, visualize import relationships in the data set.\n",
    "\n",
    "## Univariate Analysis\n",
    "\n",
    "Create charts where you plot only one variable (column) at a time. \n",
    "\n",
    "You can use simple charts like histograms and boxplots.\n",
    "\n",
    "> For example, use a histogram to plot an age distribution column (if you have one).\n",
    "\n",
    "> **Make sure to put an explanation or interpretation of the chart in a markdown cell after the chart**"
   ]
  },
  {
   "cell_type": "code",
   "execution_count": null,
   "id": "4752556f",
   "metadata": {},
   "outputs": [],
   "source": [
    "#univariate analysis cells\n"
   ]
  },
  {
   "cell_type": "code",
   "execution_count": null,
   "id": "04218ad1",
   "metadata": {},
   "outputs": [],
   "source": [
    "#univariate analysis cells\n"
   ]
  },
  {
   "cell_type": "code",
   "execution_count": null,
   "id": "b5d7c781",
   "metadata": {},
   "outputs": [],
   "source": [
    "#univariate analysis cells\n"
   ]
  },
  {
   "cell_type": "markdown",
   "id": "e37369fa",
   "metadata": {},
   "source": [
    "## Bivariate Analysis\n",
    "\n",
    "Create charts where you plot only two variables at a time on a chart. \n",
    "\n",
    "You can use visuals like bar charts, boxplots, scatter plots and so on.\n",
    "\n",
    "> You can plot variables like age against number of purchases, etc\n",
    "\n",
    "> **Make sure to put an explanation or interpretation of the chart in a markdown cell after the chart**"
   ]
  },
  {
   "cell_type": "code",
   "execution_count": null,
   "id": "61273006",
   "metadata": {},
   "outputs": [],
   "source": [
    "#bivariate analysis cells\n"
   ]
  },
  {
   "cell_type": "code",
   "execution_count": null,
   "id": "b3a6e5a1",
   "metadata": {},
   "outputs": [],
   "source": [
    "#bivariate analysis cells\n"
   ]
  },
  {
   "cell_type": "code",
   "execution_count": null,
   "id": "0e22408b",
   "metadata": {},
   "outputs": [],
   "source": [
    "#bivariate analysis cells\n"
   ]
  },
  {
   "cell_type": "markdown",
   "id": "9429b113",
   "metadata": {},
   "source": [
    "## Multivariate Analysis\n",
    "\n",
    "Create charts where you plot more than two variables at a time on a chart. \n",
    "\n",
    "You can use visuals like bar charts, scatter plots and so on.\n",
    "\n",
    "> Explore how to use the `hue` parameter in `seaborn` chart types\n",
    "\n",
    "> **Make sure to put an explanation or interpretation of the chart in a markdown cell after the chart**"
   ]
  },
  {
   "cell_type": "code",
   "execution_count": null,
   "id": "47bfdea6",
   "metadata": {},
   "outputs": [],
   "source": [
    "#multivariate analysis cells\n"
   ]
  },
  {
   "cell_type": "code",
   "execution_count": null,
   "id": "10e02d75",
   "metadata": {},
   "outputs": [],
   "source": [
    "#multivariate analysis cells\n"
   ]
  },
  {
   "cell_type": "code",
   "execution_count": null,
   "id": "3be8d0a6",
   "metadata": {},
   "outputs": [],
   "source": [
    "#multivariate analysis cells\n"
   ]
  },
  {
   "cell_type": "markdown",
   "id": "d84168b0",
   "metadata": {},
   "source": [
    "# Summary\n",
    "\n",
    "In this markdown cell, summarize your list of findings.\n",
    "\n",
    "1. \n",
    "2. \n",
    "3. \n",
    "4. "
   ]
  },
  {
   "cell_type": "code",
   "execution_count": null,
   "id": "0cd1fdaa",
   "metadata": {},
   "outputs": [],
   "source": []
  }
 ],
 "metadata": {
  "kernelspec": {
   "display_name": "Python 3 (ipykernel)",
   "language": "python",
   "name": "python3"
  },
  "language_info": {
   "codemirror_mode": {
    "name": "ipython",
    "version": 3
   },
   "file_extension": ".py",
   "mimetype": "text/x-python",
   "name": "python",
   "nbconvert_exporter": "python",
   "pygments_lexer": "ipython3",
   "version": "3.9.12"
  }
 },
 "nbformat": 4,
 "nbformat_minor": 5
}
