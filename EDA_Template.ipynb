{
 "cells": [
  {
   "cell_type": "markdown",
   "id": "c3bd565c",
   "metadata": {},
   "source": [
    "# Project Title (Supermart Grocery Sales)\n",
    "\n",
    "Problem Statement:\n",
    "Filtering through the dataset, it is valid to make some assertions that the store owner is most likely looking into daily sales without a more holistic view of where the parameters are more beneficial to her store. From observations, we discoverd  what we can do to make a more detailed analysis in the following areas:\n",
    "1. Which region makes the most profit\n",
    "2. Which city makes the most profit\n",
    "3. Which category and sub-category makes the most\n",
    "4. Which category and sub-category was patronized more\n",
    "5. Most Outstanding customer in terms of patronage\n",
    "6. Frequency of purchase, by which customer, ordered by state, region and subcategories\n",
    "7. What discount they get per item\n",
    "8. Trend identification in the year\n",
    "9. Correlation between sales and discount\n",
    "\n",
    "### A short description of the project\n",
    "\n",
    "This project is a supermart grocrey sales dataset which shows important details of daily sales of customers in different regions and cities in a particular state called \"Tamil Nadu\".\n",
    "\n"
   ]
  },
  {
   "cell_type": "code",
   "execution_count": 55,
   "id": "d8aa5eda",
   "metadata": {},
   "outputs": [],
   "source": [
    "#import python libraries for data manipulation and visualization\n",
    "\n",
    "import pandas as pd\n",
    "import numpy as np\n",
    "\n",
    "#visualization\n",
    "import matplotlib.pyplot as plt\n",
    "import seaborn as sns"
   ]
  },
  {
   "cell_type": "markdown",
   "id": "d6f64705",
   "metadata": {},
   "source": [
    "# Data Inspection\n",
    "\n",
    "load data set with this code:df=pd.read_csv('filename.csv')\n",
    "This data was downloaded from Kaggle,click on this link to access the data set:\n",
    "https://www.kaggle.com/datasets/mohamedharris/supermart-grocery-sales-retail-analytics-dataset\n",
    "\n",
    "supermart data has 9994 Rows and 11 columns with no missing values.\n",
    "\n",
    "from my observations, Date data type and column names will be modified.\n",
    "    "
   ]
  },
  {
   "cell_type": "code",
   "execution_count": 56,
   "id": "88acc8af",
   "metadata": {},
   "outputs": [],
   "source": [
    "# load the data\n",
    "sales_record = pd.read_csv('Supermart_Grocery_Sales.csv')"
   ]
  },
  {
   "cell_type": "code",
   "execution_count": 57,
   "id": "6206c189",
   "metadata": {},
   "outputs": [
    {
     "data": {
      "text/plain": [
       "(9994, 11)"
      ]
     },
     "execution_count": 57,
     "metadata": {},
     "output_type": "execute_result"
    }
   ],
   "source": [
    "#how many rows and columns?\n",
    "#uses df.shape to check the total rows and columns\n",
    "sales_record.shape"
   ]
  },
  {
   "cell_type": "code",
   "execution_count": 58,
   "id": "c0941ae8",
   "metadata": {},
   "outputs": [
    {
     "data": {
      "text/plain": [
       "Order ID         0\n",
       "Customer Name    0\n",
       "Category         0\n",
       "Sub Category     0\n",
       "City             0\n",
       "Order Date       0\n",
       "Region           0\n",
       "Sales            0\n",
       "Discount         0\n",
       "Profit           0\n",
       "State            0\n",
       "dtype: int64"
      ]
     },
     "execution_count": 58,
     "metadata": {},
     "output_type": "execute_result"
    }
   ],
   "source": [
    "#does it have missing values?\n",
    "#lets check if our data has missing values using.isna().sum() to give us the total number of the missing values.\n",
    "sales_record.isna().sum()"
   ]
  },
  {
   "cell_type": "code",
   "execution_count": 59,
   "id": "8361080b",
   "metadata": {},
   "outputs": [
    {
     "data": {
      "text/html": [
       "<div>\n",
       "<style scoped>\n",
       "    .dataframe tbody tr th:only-of-type {\n",
       "        vertical-align: middle;\n",
       "    }\n",
       "\n",
       "    .dataframe tbody tr th {\n",
       "        vertical-align: top;\n",
       "    }\n",
       "\n",
       "    .dataframe thead th {\n",
       "        text-align: right;\n",
       "    }\n",
       "</style>\n",
       "<table border=\"1\" class=\"dataframe\">\n",
       "  <thead>\n",
       "    <tr style=\"text-align: right;\">\n",
       "      <th></th>\n",
       "      <th>Order ID</th>\n",
       "      <th>Customer Name</th>\n",
       "      <th>Category</th>\n",
       "      <th>Sub Category</th>\n",
       "      <th>City</th>\n",
       "      <th>Order Date</th>\n",
       "      <th>Region</th>\n",
       "      <th>Sales</th>\n",
       "      <th>Discount</th>\n",
       "      <th>Profit</th>\n",
       "      <th>State</th>\n",
       "    </tr>\n",
       "  </thead>\n",
       "  <tbody>\n",
       "    <tr>\n",
       "      <th>0</th>\n",
       "      <td>OD1</td>\n",
       "      <td>Harish</td>\n",
       "      <td>Oil &amp; Masala</td>\n",
       "      <td>Masalas</td>\n",
       "      <td>Vellore</td>\n",
       "      <td>11-08-2017</td>\n",
       "      <td>North</td>\n",
       "      <td>1254</td>\n",
       "      <td>0.12</td>\n",
       "      <td>401.28</td>\n",
       "      <td>Tamil Nadu</td>\n",
       "    </tr>\n",
       "    <tr>\n",
       "      <th>1</th>\n",
       "      <td>OD2</td>\n",
       "      <td>Sudha</td>\n",
       "      <td>Beverages</td>\n",
       "      <td>Health Drinks</td>\n",
       "      <td>Krishnagiri</td>\n",
       "      <td>11-08-2017</td>\n",
       "      <td>South</td>\n",
       "      <td>749</td>\n",
       "      <td>0.18</td>\n",
       "      <td>149.80</td>\n",
       "      <td>Tamil Nadu</td>\n",
       "    </tr>\n",
       "    <tr>\n",
       "      <th>2</th>\n",
       "      <td>OD3</td>\n",
       "      <td>Hussain</td>\n",
       "      <td>Food Grains</td>\n",
       "      <td>Atta &amp; Flour</td>\n",
       "      <td>Perambalur</td>\n",
       "      <td>06-12-2017</td>\n",
       "      <td>West</td>\n",
       "      <td>2360</td>\n",
       "      <td>0.21</td>\n",
       "      <td>165.20</td>\n",
       "      <td>Tamil Nadu</td>\n",
       "    </tr>\n",
       "    <tr>\n",
       "      <th>3</th>\n",
       "      <td>OD4</td>\n",
       "      <td>Jackson</td>\n",
       "      <td>Fruits &amp; Veggies</td>\n",
       "      <td>Fresh Vegetables</td>\n",
       "      <td>Dharmapuri</td>\n",
       "      <td>10-11-2016</td>\n",
       "      <td>South</td>\n",
       "      <td>896</td>\n",
       "      <td>0.25</td>\n",
       "      <td>89.60</td>\n",
       "      <td>Tamil Nadu</td>\n",
       "    </tr>\n",
       "    <tr>\n",
       "      <th>4</th>\n",
       "      <td>OD5</td>\n",
       "      <td>Ridhesh</td>\n",
       "      <td>Food Grains</td>\n",
       "      <td>Organic Staples</td>\n",
       "      <td>Ooty</td>\n",
       "      <td>10-11-2016</td>\n",
       "      <td>South</td>\n",
       "      <td>2355</td>\n",
       "      <td>0.26</td>\n",
       "      <td>918.45</td>\n",
       "      <td>Tamil Nadu</td>\n",
       "    </tr>\n",
       "    <tr>\n",
       "      <th>5</th>\n",
       "      <td>OD6</td>\n",
       "      <td>Adavan</td>\n",
       "      <td>Food Grains</td>\n",
       "      <td>Organic Staples</td>\n",
       "      <td>Dharmapuri</td>\n",
       "      <td>06-09-2015</td>\n",
       "      <td>West</td>\n",
       "      <td>2305</td>\n",
       "      <td>0.26</td>\n",
       "      <td>322.70</td>\n",
       "      <td>Tamil Nadu</td>\n",
       "    </tr>\n",
       "    <tr>\n",
       "      <th>6</th>\n",
       "      <td>OD7</td>\n",
       "      <td>Jonas</td>\n",
       "      <td>Fruits &amp; Veggies</td>\n",
       "      <td>Fresh Vegetables</td>\n",
       "      <td>Trichy</td>\n",
       "      <td>06-09-2015</td>\n",
       "      <td>West</td>\n",
       "      <td>826</td>\n",
       "      <td>0.33</td>\n",
       "      <td>346.92</td>\n",
       "      <td>Tamil Nadu</td>\n",
       "    </tr>\n",
       "    <tr>\n",
       "      <th>7</th>\n",
       "      <td>OD8</td>\n",
       "      <td>Hafiz</td>\n",
       "      <td>Fruits &amp; Veggies</td>\n",
       "      <td>Fresh Fruits</td>\n",
       "      <td>Ramanadhapuram</td>\n",
       "      <td>06-09-2015</td>\n",
       "      <td>West</td>\n",
       "      <td>1847</td>\n",
       "      <td>0.32</td>\n",
       "      <td>147.76</td>\n",
       "      <td>Tamil Nadu</td>\n",
       "    </tr>\n",
       "    <tr>\n",
       "      <th>8</th>\n",
       "      <td>OD9</td>\n",
       "      <td>Hafiz</td>\n",
       "      <td>Bakery</td>\n",
       "      <td>Biscuits</td>\n",
       "      <td>Tirunelveli</td>\n",
       "      <td>06-09-2015</td>\n",
       "      <td>West</td>\n",
       "      <td>791</td>\n",
       "      <td>0.23</td>\n",
       "      <td>181.93</td>\n",
       "      <td>Tamil Nadu</td>\n",
       "    </tr>\n",
       "    <tr>\n",
       "      <th>9</th>\n",
       "      <td>OD10</td>\n",
       "      <td>Krithika</td>\n",
       "      <td>Bakery</td>\n",
       "      <td>Cakes</td>\n",
       "      <td>Chennai</td>\n",
       "      <td>06-09-2015</td>\n",
       "      <td>West</td>\n",
       "      <td>1795</td>\n",
       "      <td>0.27</td>\n",
       "      <td>484.65</td>\n",
       "      <td>Tamil Nadu</td>\n",
       "    </tr>\n",
       "  </tbody>\n",
       "</table>\n",
       "</div>"
      ],
      "text/plain": [
       "  Order ID Customer Name          Category      Sub Category            City  \\\n",
       "0      OD1        Harish      Oil & Masala           Masalas         Vellore   \n",
       "1      OD2         Sudha         Beverages     Health Drinks     Krishnagiri   \n",
       "2      OD3       Hussain       Food Grains      Atta & Flour      Perambalur   \n",
       "3      OD4       Jackson  Fruits & Veggies  Fresh Vegetables      Dharmapuri   \n",
       "4      OD5       Ridhesh       Food Grains   Organic Staples            Ooty   \n",
       "5      OD6        Adavan       Food Grains   Organic Staples      Dharmapuri   \n",
       "6      OD7         Jonas  Fruits & Veggies  Fresh Vegetables          Trichy   \n",
       "7      OD8         Hafiz  Fruits & Veggies      Fresh Fruits  Ramanadhapuram   \n",
       "8      OD9         Hafiz            Bakery          Biscuits     Tirunelveli   \n",
       "9     OD10      Krithika            Bakery             Cakes         Chennai   \n",
       "\n",
       "   Order Date Region  Sales  Discount  Profit       State  \n",
       "0  11-08-2017  North   1254      0.12  401.28  Tamil Nadu  \n",
       "1  11-08-2017  South    749      0.18  149.80  Tamil Nadu  \n",
       "2  06-12-2017   West   2360      0.21  165.20  Tamil Nadu  \n",
       "3  10-11-2016  South    896      0.25   89.60  Tamil Nadu  \n",
       "4  10-11-2016  South   2355      0.26  918.45  Tamil Nadu  \n",
       "5  06-09-2015   West   2305      0.26  322.70  Tamil Nadu  \n",
       "6  06-09-2015   West    826      0.33  346.92  Tamil Nadu  \n",
       "7  06-09-2015   West   1847      0.32  147.76  Tamil Nadu  \n",
       "8  06-09-2015   West    791      0.23  181.93  Tamil Nadu  \n",
       "9  06-09-2015   West   1795      0.27  484.65  Tamil Nadu  "
      ]
     },
     "execution_count": 59,
     "metadata": {},
     "output_type": "execute_result"
    }
   ],
   "source": [
    "##let's view our first 10 data set by using the .head()function:\n",
    "sales_record.head(10)"
   ]
  },
  {
   "cell_type": "code",
   "execution_count": 60,
   "id": "cd6944b0",
   "metadata": {},
   "outputs": [
    {
     "name": "stdout",
     "output_type": "stream",
     "text": [
      "<class 'pandas.core.frame.DataFrame'>\n",
      "RangeIndex: 9994 entries, 0 to 9993\n",
      "Data columns (total 11 columns):\n",
      " #   Column         Non-Null Count  Dtype  \n",
      "---  ------         --------------  -----  \n",
      " 0   Order ID       9994 non-null   object \n",
      " 1   Customer Name  9994 non-null   object \n",
      " 2   Category       9994 non-null   object \n",
      " 3   Sub Category   9994 non-null   object \n",
      " 4   City           9994 non-null   object \n",
      " 5   Order Date     9994 non-null   object \n",
      " 6   Region         9994 non-null   object \n",
      " 7   Sales          9994 non-null   int64  \n",
      " 8   Discount       9994 non-null   float64\n",
      " 9   Profit         9994 non-null   float64\n",
      " 10  State          9994 non-null   object \n",
      "dtypes: float64(2), int64(1), object(8)\n",
      "memory usage: 859.0+ KB\n"
     ]
    }
   ],
   "source": [
    "## this is used to check the datatypes of your data columns and if they have thier supposed data types.\n",
    "##we can see that order date does not have the perfect data type and some column names have whitespace.\n",
    "sales_record.info()"
   ]
  },
  {
   "cell_type": "markdown",
   "id": "a25d8faf",
   "metadata": {},
   "source": [
    "# Data Cleansing\n",
    "To make my data clean, i will change the date format and remove whitespaces from my column names.\n",
    "Whitespace is the space before and/or after the actual text.\n",
    "we can remove the whitespace with replace function.\n"
   ]
  },
  {
   "cell_type": "code",
   "execution_count": 61,
   "id": "357a39ef",
   "metadata": {},
   "outputs": [
    {
     "data": {
      "text/html": [
       "<div>\n",
       "<style scoped>\n",
       "    .dataframe tbody tr th:only-of-type {\n",
       "        vertical-align: middle;\n",
       "    }\n",
       "\n",
       "    .dataframe tbody tr th {\n",
       "        vertical-align: top;\n",
       "    }\n",
       "\n",
       "    .dataframe thead th {\n",
       "        text-align: right;\n",
       "    }\n",
       "</style>\n",
       "<table border=\"1\" class=\"dataframe\">\n",
       "  <thead>\n",
       "    <tr style=\"text-align: right;\">\n",
       "      <th></th>\n",
       "      <th>Order ID</th>\n",
       "      <th>Customer Name</th>\n",
       "      <th>Category</th>\n",
       "      <th>Sub Category</th>\n",
       "      <th>City</th>\n",
       "      <th>Order Date</th>\n",
       "      <th>Region</th>\n",
       "      <th>Sales</th>\n",
       "      <th>Discount</th>\n",
       "      <th>Profit</th>\n",
       "      <th>State</th>\n",
       "    </tr>\n",
       "  </thead>\n",
       "  <tbody>\n",
       "    <tr>\n",
       "      <th>0</th>\n",
       "      <td>False</td>\n",
       "      <td>False</td>\n",
       "      <td>False</td>\n",
       "      <td>False</td>\n",
       "      <td>False</td>\n",
       "      <td>False</td>\n",
       "      <td>False</td>\n",
       "      <td>False</td>\n",
       "      <td>False</td>\n",
       "      <td>False</td>\n",
       "      <td>False</td>\n",
       "    </tr>\n",
       "    <tr>\n",
       "      <th>1</th>\n",
       "      <td>False</td>\n",
       "      <td>False</td>\n",
       "      <td>False</td>\n",
       "      <td>False</td>\n",
       "      <td>False</td>\n",
       "      <td>False</td>\n",
       "      <td>False</td>\n",
       "      <td>False</td>\n",
       "      <td>False</td>\n",
       "      <td>False</td>\n",
       "      <td>False</td>\n",
       "    </tr>\n",
       "    <tr>\n",
       "      <th>2</th>\n",
       "      <td>False</td>\n",
       "      <td>False</td>\n",
       "      <td>False</td>\n",
       "      <td>False</td>\n",
       "      <td>False</td>\n",
       "      <td>False</td>\n",
       "      <td>False</td>\n",
       "      <td>False</td>\n",
       "      <td>False</td>\n",
       "      <td>False</td>\n",
       "      <td>False</td>\n",
       "    </tr>\n",
       "    <tr>\n",
       "      <th>3</th>\n",
       "      <td>False</td>\n",
       "      <td>False</td>\n",
       "      <td>False</td>\n",
       "      <td>False</td>\n",
       "      <td>False</td>\n",
       "      <td>False</td>\n",
       "      <td>False</td>\n",
       "      <td>False</td>\n",
       "      <td>False</td>\n",
       "      <td>False</td>\n",
       "      <td>False</td>\n",
       "    </tr>\n",
       "    <tr>\n",
       "      <th>4</th>\n",
       "      <td>False</td>\n",
       "      <td>False</td>\n",
       "      <td>False</td>\n",
       "      <td>False</td>\n",
       "      <td>False</td>\n",
       "      <td>False</td>\n",
       "      <td>False</td>\n",
       "      <td>False</td>\n",
       "      <td>False</td>\n",
       "      <td>False</td>\n",
       "      <td>False</td>\n",
       "    </tr>\n",
       "    <tr>\n",
       "      <th>...</th>\n",
       "      <td>...</td>\n",
       "      <td>...</td>\n",
       "      <td>...</td>\n",
       "      <td>...</td>\n",
       "      <td>...</td>\n",
       "      <td>...</td>\n",
       "      <td>...</td>\n",
       "      <td>...</td>\n",
       "      <td>...</td>\n",
       "      <td>...</td>\n",
       "      <td>...</td>\n",
       "    </tr>\n",
       "    <tr>\n",
       "      <th>9989</th>\n",
       "      <td>False</td>\n",
       "      <td>False</td>\n",
       "      <td>False</td>\n",
       "      <td>False</td>\n",
       "      <td>False</td>\n",
       "      <td>False</td>\n",
       "      <td>False</td>\n",
       "      <td>False</td>\n",
       "      <td>False</td>\n",
       "      <td>False</td>\n",
       "      <td>False</td>\n",
       "    </tr>\n",
       "    <tr>\n",
       "      <th>9990</th>\n",
       "      <td>False</td>\n",
       "      <td>False</td>\n",
       "      <td>False</td>\n",
       "      <td>False</td>\n",
       "      <td>False</td>\n",
       "      <td>False</td>\n",
       "      <td>False</td>\n",
       "      <td>False</td>\n",
       "      <td>False</td>\n",
       "      <td>False</td>\n",
       "      <td>False</td>\n",
       "    </tr>\n",
       "    <tr>\n",
       "      <th>9991</th>\n",
       "      <td>False</td>\n",
       "      <td>False</td>\n",
       "      <td>False</td>\n",
       "      <td>False</td>\n",
       "      <td>False</td>\n",
       "      <td>False</td>\n",
       "      <td>False</td>\n",
       "      <td>False</td>\n",
       "      <td>False</td>\n",
       "      <td>False</td>\n",
       "      <td>False</td>\n",
       "    </tr>\n",
       "    <tr>\n",
       "      <th>9992</th>\n",
       "      <td>False</td>\n",
       "      <td>False</td>\n",
       "      <td>False</td>\n",
       "      <td>False</td>\n",
       "      <td>False</td>\n",
       "      <td>False</td>\n",
       "      <td>False</td>\n",
       "      <td>False</td>\n",
       "      <td>False</td>\n",
       "      <td>False</td>\n",
       "      <td>False</td>\n",
       "    </tr>\n",
       "    <tr>\n",
       "      <th>9993</th>\n",
       "      <td>False</td>\n",
       "      <td>False</td>\n",
       "      <td>False</td>\n",
       "      <td>False</td>\n",
       "      <td>False</td>\n",
       "      <td>False</td>\n",
       "      <td>False</td>\n",
       "      <td>False</td>\n",
       "      <td>False</td>\n",
       "      <td>False</td>\n",
       "      <td>False</td>\n",
       "    </tr>\n",
       "  </tbody>\n",
       "</table>\n",
       "<p>9994 rows × 11 columns</p>\n",
       "</div>"
      ],
      "text/plain": [
       "      Order ID  Customer Name  Category  Sub Category   City  Order Date  \\\n",
       "0        False          False     False         False  False       False   \n",
       "1        False          False     False         False  False       False   \n",
       "2        False          False     False         False  False       False   \n",
       "3        False          False     False         False  False       False   \n",
       "4        False          False     False         False  False       False   \n",
       "...        ...            ...       ...           ...    ...         ...   \n",
       "9989     False          False     False         False  False       False   \n",
       "9990     False          False     False         False  False       False   \n",
       "9991     False          False     False         False  False       False   \n",
       "9992     False          False     False         False  False       False   \n",
       "9993     False          False     False         False  False       False   \n",
       "\n",
       "      Region  Sales  Discount  Profit  State  \n",
       "0      False  False     False   False  False  \n",
       "1      False  False     False   False  False  \n",
       "2      False  False     False   False  False  \n",
       "3      False  False     False   False  False  \n",
       "4      False  False     False   False  False  \n",
       "...      ...    ...       ...     ...    ...  \n",
       "9989   False  False     False   False  False  \n",
       "9990   False  False     False   False  False  \n",
       "9991   False  False     False   False  False  \n",
       "9992   False  False     False   False  False  \n",
       "9993   False  False     False   False  False  \n",
       "\n",
       "[9994 rows x 11 columns]"
      ]
     },
     "execution_count": 61,
     "metadata": {},
     "output_type": "execute_result"
    }
   ],
   "source": [
    "#To check if there are null values in our dataset\n",
    "sales_record.isna()"
   ]
  },
  {
   "cell_type": "code",
   "execution_count": 62,
   "id": "1161c0a8",
   "metadata": {},
   "outputs": [
    {
     "data": {
      "text/plain": [
       "Order ID         0\n",
       "Customer Name    0\n",
       "Category         0\n",
       "Sub Category     0\n",
       "City             0\n",
       "Order Date       0\n",
       "Region           0\n",
       "Sales            0\n",
       "Discount         0\n",
       "Profit           0\n",
       "State            0\n",
       "dtype: int64"
      ]
     },
     "execution_count": 62,
     "metadata": {},
     "output_type": "execute_result"
    }
   ],
   "source": [
    "#To check the total null values in our dataset\n",
    "sales_record.isna().sum()"
   ]
  },
  {
   "cell_type": "code",
   "execution_count": 63,
   "id": "919d1ca1",
   "metadata": {},
   "outputs": [
    {
     "data": {
      "text/plain": [
       "Index(['Order ID', 'Customer Name', 'Category', 'Sub Category', 'City',\n",
       "       'Order Date', 'Region', 'Sales', 'Discount', 'Profit', 'State'],\n",
       "      dtype='object')"
      ]
     },
     "execution_count": 63,
     "metadata": {},
     "output_type": "execute_result"
    }
   ],
   "source": [
    "#Removing  whitespaces\n",
    "##lets view our columns: \n",
    "\n",
    "sales_record.columns"
   ]
  },
  {
   "cell_type": "code",
   "execution_count": 64,
   "id": "b0a3c6db",
   "metadata": {},
   "outputs": [],
   "source": [
    "###removing whitespaces in our columns  with str.replace function from ' ' to ''\n",
    "sales_record.columns = sales_record.columns.str.replace(' ', '_')"
   ]
  },
  {
   "cell_type": "code",
   "execution_count": 65,
   "id": "a67f841a",
   "metadata": {},
   "outputs": [
    {
     "data": {
      "text/plain": [
       "Index(['Order_ID', 'Customer_Name', 'Category', 'Sub_Category', 'City',\n",
       "       'Order_Date', 'Region', 'Sales', 'Discount', 'Profit', 'State'],\n",
       "      dtype='object')"
      ]
     },
     "execution_count": 65,
     "metadata": {},
     "output_type": "execute_result"
    }
   ],
   "source": [
    "sales_record.columns"
   ]
  },
  {
   "cell_type": "code",
   "execution_count": 66,
   "id": "db7aeb32",
   "metadata": {},
   "outputs": [],
   "source": [
    "##now lets change our date column datatype to the right dtype using to_datetime from panda library:\n",
    "sales_record['Order_Date'] = pd.to_datetime(sales_record['Order_Date'])"
   ]
  },
  {
   "cell_type": "code",
   "execution_count": 67,
   "id": "1d826a0a",
   "metadata": {},
   "outputs": [
    {
     "data": {
      "text/plain": [
       "0      2017-11-08\n",
       "1      2017-11-08\n",
       "2      2017-06-12\n",
       "3      2016-10-11\n",
       "4      2016-10-11\n",
       "          ...    \n",
       "9989   2015-12-24\n",
       "9990   2015-07-12\n",
       "9991   2017-06-06\n",
       "9992   2018-10-16\n",
       "9993   2018-04-17\n",
       "Name: Order_Date, Length: 9994, dtype: datetime64[ns]"
      ]
     },
     "execution_count": 67,
     "metadata": {},
     "output_type": "execute_result"
    }
   ],
   "source": [
    "##run this code and see the changes in our Order_Date column .\n",
    "sales_record['Order_Date']"
   ]
  },
  {
   "cell_type": "markdown",
   "id": "abc83ce7",
   "metadata": {},
   "source": [
    "# Data Visualization\n",
    "\n",
    "In this section, visualize import relationships in the data set.\n",
    "\n",
    "## Univariate Analysis\n",
    "\n",
    "Create charts where you plot only one variable (column) at a time. \n",
    "\n",
    "You can use simple charts like histograms and boxplots.\n",
    "\n",
    "> For example, use a histogram to plot an age distribution column (if you have one).\n",
    "\n",
    "> **Make sure to put an explanation or interpretation of the chart in a markdown cell after the chart**"
   ]
  },
  {
   "cell_type": "code",
   "execution_count": 68,
   "id": "4752556f",
   "metadata": {},
   "outputs": [
    {
     "data": {
      "image/png": "[encoded data removed]",
      "text/plain": [
       "<Figure size 432x288 with 1 Axes>"
      ]
     },
     "metadata": {
      "needs_background": "light"
     },
     "output_type": "display_data"
    }
   ],
   "source": [
    "##using Histogram to show the highest profits made\n",
    "plt.hist(sales_record['Profit'],color='red') \n",
    "plt.title('Profit Distribution',fontsize=16,fontweight='bold')\n",
    "plt.xlabel('Profit',fontsize=14,fontweight='bold')\n",
    "plt.ylabel('Frequency',fontsize=14,fontweight='bold')\n",
    "plt.show()"
   ]
  },
  {
   "cell_type": "markdown",
   "id": "42bbce84",
   "metadata": {},
   "source": [
    "### i plotted our profit column using Histogram, this chart shows that our profit is right skewed(mean>median).\n",
    "i am assuming our profits has outliers,i will use BoxPlot chart to finalize my assumptions.\n"
   ]
  },
  {
   "cell_type": "code",
   "execution_count": 69,
   "id": "067003de",
   "metadata": {},
   "outputs": [
    {
     "data": {
      "image/png": "[encoded data removed]",
      "text/plain": [
       "<Figure size 432x288 with 1 Axes>"
      ]
     },
     "metadata": {
      "needs_background": "light"
     },
     "output_type": "display_data"
    }
   ],
   "source": [
    "##using Box plot to show Outliers\n",
    "sns.boxplot(y=sales_record['Profit'])\n",
    "plt.show()"
   ]
  },
  {
   "cell_type": "markdown",
   "id": "7e6f0b18",
   "metadata": {},
   "source": [
    "### using the Boxplot, we can see outliers(black shade) on our Profits"
   ]
  },
  {
   "cell_type": "code",
   "execution_count": 70,
   "id": "04218ad1",
   "metadata": {},
   "outputs": [
    {
     "data": {
      "image/png": "[encoded data removed]",
      "text/plain": [
       "<Figure size 432x288 with 1 Axes>"
      ]
     },
     "metadata": {
      "needs_background": "light"
     },
     "output_type": "display_data"
    }
   ],
   "source": [
    "#using Histogram to plot our sales\n",
    "plt.hist(sales_record['Sales'],bins=list(range(400,3000,200)))\n",
    "plt.title('Sales Distribution',fontsize=16,fontweight='bold')\n",
    "plt.xlabel('Sales',fontsize=14,fontweight='bold')\n",
    "plt.ylabel('Frequency',fontsize=14,fontweight='bold')\n",
    "\n",
    "plt.show()"
   ]
  },
  {
   "cell_type": "markdown",
   "id": "1fd63ebe",
   "metadata": {},
   "source": [
    "### Here we can see the frequency of our sales, the number of times  sales from the range of 500-600 \n",
    "### turned up(520 times),etc."
   ]
  },
  {
   "cell_type": "code",
   "execution_count": 71,
   "id": "b5d7c781",
   "metadata": {},
   "outputs": [
    {
     "data": {
      "image/png": "[encoded data removed]",
      "text/plain": [
       "<Figure size 432x288 with 1 Axes>"
      ]
     },
     "metadata": {
      "needs_background": "light"
     },
     "output_type": "display_data"
    }
   ],
   "source": [
    "#Histogram to plot Discount\n",
    "plt.hist(sales_record.Discount,color='lightblue')\n",
    "plt.title('Discount Distribution',fontsize=16,fontweight='bold')\n",
    "plt.xlabel('Discount',fontsize=14,fontweight='bold')\n",
    "plt.ylabel('Frequency',fontsize=14,fontweight='bold')\n",
    "plt.show()"
   ]
  },
  {
   "cell_type": "markdown",
   "id": "541a34e2",
   "metadata": {},
   "source": [
    "### in this chart, our discount varies from 0.10 to 0.35.\n",
    "from 0.10 to 0.12, we have close to frequency of 1100\n",
    "from 0.13 to 0.14, we have frequency of 750,etc."
   ]
  },
  {
   "cell_type": "markdown",
   "id": "16039d22",
   "metadata": {},
   "source": [
    "### which Region makes the most Profit?"
   ]
  },
  {
   "cell_type": "code",
   "execution_count": 72,
   "id": "61273006",
   "metadata": {},
   "outputs": [
    {
     "data": {
      "text/plain": [
       "Region\n",
       "Central     856806.84\n",
       "East       1074345.58\n",
       "North          401.28\n",
       "South       623562.89\n",
       "West       1192004.61\n",
       "Name: Profit, dtype: float64"
      ]
     },
     "execution_count": 72,
     "metadata": {},
     "output_type": "execute_result"
    }
   ],
   "source": [
    "sales_record.groupby('Region').Profit.sum()"
   ]
  },
  {
   "cell_type": "code",
   "execution_count": 73,
   "id": "6555b368",
   "metadata": {},
   "outputs": [
    {
     "data": {
      "image/png": "[encoded data removed]",
      "text/plain": [
       "<Figure size 432x288 with 1 Axes>"
      ]
     },
     "metadata": {
      "needs_background": "light"
     },
     "output_type": "display_data"
    }
   ],
   "source": [
    "sales_record.groupby('Region')[['Profit']].sum().plot.bar(color='red')\n",
    "plt.title('Region VS Profit',fontsize=16,fontweight='bold')\n",
    "plt.xlabel('Region',fontsize=14,fontweight='bold')\n",
    "plt.ylabel('Profit',fontsize=14,fontweight='bold')\n",
    "plt.show()"
   ]
  },
  {
   "cell_type": "markdown",
   "id": "fefb892b",
   "metadata": {},
   "source": [
    "#### from the chart, we can tell that West Region made more profit."
   ]
  },
  {
   "cell_type": "markdown",
   "id": "b15c170b",
   "metadata": {},
   "source": [
    "## Which City Makes More Profit?"
   ]
  },
  {
   "cell_type": "code",
   "execution_count": 74,
   "id": "b3a6e5a1",
   "metadata": {},
   "outputs": [
    {
     "data": {
      "text/html": [
       "<div>\n",
       "<style scoped>\n",
       "    .dataframe tbody tr th:only-of-type {\n",
       "        vertical-align: middle;\n",
       "    }\n",
       "\n",
       "    .dataframe tbody tr th {\n",
       "        vertical-align: top;\n",
       "    }\n",
       "\n",
       "    .dataframe thead th {\n",
       "        text-align: right;\n",
       "    }\n",
       "</style>\n",
       "<table border=\"1\" class=\"dataframe\">\n",
       "  <thead>\n",
       "    <tr style=\"text-align: right;\">\n",
       "      <th></th>\n",
       "      <th>Profit</th>\n",
       "    </tr>\n",
       "    <tr>\n",
       "      <th>City</th>\n",
       "      <th></th>\n",
       "    </tr>\n",
       "  </thead>\n",
       "  <tbody>\n",
       "    <tr>\n",
       "      <th>Vellore</th>\n",
       "      <td>400.167839</td>\n",
       "    </tr>\n",
       "    <tr>\n",
       "      <th>Perambalur</th>\n",
       "      <td>394.313802</td>\n",
       "    </tr>\n",
       "    <tr>\n",
       "      <th>Karur</th>\n",
       "      <td>393.734744</td>\n",
       "    </tr>\n",
       "    <tr>\n",
       "      <th>Bodi</th>\n",
       "      <td>392.884910</td>\n",
       "    </tr>\n",
       "    <tr>\n",
       "      <th>Pudukottai</th>\n",
       "      <td>381.564256</td>\n",
       "    </tr>\n",
       "    <tr>\n",
       "      <th>Trichy</th>\n",
       "      <td>381.120280</td>\n",
       "    </tr>\n",
       "    <tr>\n",
       "      <th>Ramanadhapuram</th>\n",
       "      <td>377.555891</td>\n",
       "    </tr>\n",
       "    <tr>\n",
       "      <th>Dharmapuri</th>\n",
       "      <td>376.577261</td>\n",
       "    </tr>\n",
       "    <tr>\n",
       "      <th>Kanyakumari</th>\n",
       "      <td>375.202048</td>\n",
       "    </tr>\n",
       "    <tr>\n",
       "      <th>Cumbum</th>\n",
       "      <td>374.952350</td>\n",
       "    </tr>\n",
       "    <tr>\n",
       "      <th>Madurai</th>\n",
       "      <td>373.893652</td>\n",
       "    </tr>\n",
       "    <tr>\n",
       "      <th>Salem</th>\n",
       "      <td>373.316241</td>\n",
       "    </tr>\n",
       "    <tr>\n",
       "      <th>Chennai</th>\n",
       "      <td>372.503079</td>\n",
       "    </tr>\n",
       "    <tr>\n",
       "      <th>Ooty</th>\n",
       "      <td>371.482475</td>\n",
       "    </tr>\n",
       "    <tr>\n",
       "      <th>Tirunelveli</th>\n",
       "      <td>370.334103</td>\n",
       "    </tr>\n",
       "    <tr>\n",
       "      <th>Nagercoil</th>\n",
       "      <td>369.566944</td>\n",
       "    </tr>\n",
       "    <tr>\n",
       "      <th>Theni</th>\n",
       "      <td>368.836641</td>\n",
       "    </tr>\n",
       "    <tr>\n",
       "      <th>Coimbatore</th>\n",
       "      <td>367.755631</td>\n",
       "    </tr>\n",
       "    <tr>\n",
       "      <th>Dindigul</th>\n",
       "      <td>365.840783</td>\n",
       "    </tr>\n",
       "    <tr>\n",
       "      <th>Krishnagiri</th>\n",
       "      <td>364.721545</td>\n",
       "    </tr>\n",
       "    <tr>\n",
       "      <th>Viluppuram</th>\n",
       "      <td>363.225793</td>\n",
       "    </tr>\n",
       "    <tr>\n",
       "      <th>Virudhunagar</th>\n",
       "      <td>362.540120</td>\n",
       "    </tr>\n",
       "    <tr>\n",
       "      <th>Tenkasi</th>\n",
       "      <td>361.645185</td>\n",
       "    </tr>\n",
       "    <tr>\n",
       "      <th>Namakkal</th>\n",
       "      <td>361.047395</td>\n",
       "    </tr>\n",
       "  </tbody>\n",
       "</table>\n",
       "</div>"
      ],
      "text/plain": [
       "                    Profit\n",
       "City                      \n",
       "Vellore         400.167839\n",
       "Perambalur      394.313802\n",
       "Karur           393.734744\n",
       "Bodi            392.884910\n",
       "Pudukottai      381.564256\n",
       "Trichy          381.120280\n",
       "Ramanadhapuram  377.555891\n",
       "Dharmapuri      376.577261\n",
       "Kanyakumari     375.202048\n",
       "Cumbum          374.952350\n",
       "Madurai         373.893652\n",
       "Salem           373.316241\n",
       "Chennai         372.503079\n",
       "Ooty            371.482475\n",
       "Tirunelveli     370.334103\n",
       "Nagercoil       369.566944\n",
       "Theni           368.836641\n",
       "Coimbatore      367.755631\n",
       "Dindigul        365.840783\n",
       "Krishnagiri     364.721545\n",
       "Viluppuram      363.225793\n",
       "Virudhunagar    362.540120\n",
       "Tenkasi         361.645185\n",
       "Namakkal        361.047395"
      ]
     },
     "execution_count": 74,
     "metadata": {},
     "output_type": "execute_result"
    }
   ],
   "source": [
    "sales_record.groupby('City')[['Profit']].mean().sort_values(by='Profit',ascending=False)\n"
   ]
  },
  {
   "cell_type": "code",
   "execution_count": 75,
   "id": "c31d9450",
   "metadata": {},
   "outputs": [
    {
     "data": {
      "text/plain": [
       "Text(0, 0.5, 'Profit')"
      ]
     },
     "execution_count": 75,
     "metadata": {},
     "output_type": "execute_result"
    },
    {
     "data": {
      "image/png": "[encoded data removed]",
      "text/plain": [
       "<Figure size 576x432 with 1 Axes>"
      ]
     },
     "metadata": {
      "needs_background": "light"
     },
     "output_type": "display_data"
    }
   ],
   "source": [
    "sales_record_city=sales_record.groupby('City')[['Profit']].mean().plot.bar(color='red',figsize=(8,6),legend=False)\n",
    "plt.title('City VS Profit',fontsize=16,fontweight='bold')\n",
    "plt.xlabel('City',fontsize=14,fontweight='bold')\n",
    "plt.ylabel('Profit',fontsize=14,fontweight='bold')\n"
   ]
  },
  {
   "cell_type": "markdown",
   "id": "d105039b",
   "metadata": {},
   "source": [
    "#### Vellore City has the highest profit from our Bar Chart"
   ]
  },
  {
   "cell_type": "markdown",
   "id": "7288f21c",
   "metadata": {},
   "source": [
    "## Task3a: Which Category made the highest Profit?"
   ]
  },
  {
   "cell_type": "code",
   "execution_count": 76,
   "id": "35b167e0",
   "metadata": {},
   "outputs": [
    {
     "data": {
      "text/html": [
       "<div>\n",
       "<style scoped>\n",
       "    .dataframe tbody tr th:only-of-type {\n",
       "        vertical-align: middle;\n",
       "    }\n",
       "\n",
       "    .dataframe tbody tr th {\n",
       "        vertical-align: top;\n",
       "    }\n",
       "\n",
       "    .dataframe thead th {\n",
       "        text-align: right;\n",
       "    }\n",
       "</style>\n",
       "<table border=\"1\" class=\"dataframe\">\n",
       "  <thead>\n",
       "    <tr style=\"text-align: right;\">\n",
       "      <th></th>\n",
       "      <th>Profit</th>\n",
       "    </tr>\n",
       "    <tr>\n",
       "      <th>Category</th>\n",
       "      <th></th>\n",
       "    </tr>\n",
       "  </thead>\n",
       "  <tbody>\n",
       "    <tr>\n",
       "      <th>Snacks</th>\n",
       "      <td>568178.85</td>\n",
       "    </tr>\n",
       "    <tr>\n",
       "      <th>Eggs, Meat &amp; Fish</th>\n",
       "      <td>567357.22</td>\n",
       "    </tr>\n",
       "    <tr>\n",
       "      <th>Fruits &amp; Veggies</th>\n",
       "      <td>530400.38</td>\n",
       "    </tr>\n",
       "    <tr>\n",
       "      <th>Food Grains</th>\n",
       "      <td>529162.64</td>\n",
       "    </tr>\n",
       "    <tr>\n",
       "      <th>Bakery</th>\n",
       "      <td>528521.06</td>\n",
       "    </tr>\n",
       "    <tr>\n",
       "      <th>Beverages</th>\n",
       "      <td>525605.76</td>\n",
       "    </tr>\n",
       "    <tr>\n",
       "      <th>Oil &amp; Masala</th>\n",
       "      <td>497895.29</td>\n",
       "    </tr>\n",
       "  </tbody>\n",
       "</table>\n",
       "</div>"
      ],
      "text/plain": [
       "                      Profit\n",
       "Category                    \n",
       "Snacks             568178.85\n",
       "Eggs, Meat & Fish  567357.22\n",
       "Fruits & Veggies   530400.38\n",
       "Food Grains        529162.64\n",
       "Bakery             528521.06\n",
       "Beverages          525605.76\n",
       "Oil & Masala       497895.29"
      ]
     },
     "execution_count": 76,
     "metadata": {},
     "output_type": "execute_result"
    }
   ],
   "source": [
    "sales_record.groupby('Category')[['Profit']].sum().sort_values(by='Profit',ascending=False)"
   ]
  },
  {
   "cell_type": "code",
   "execution_count": 77,
   "id": "0e22408b",
   "metadata": {},
   "outputs": [
    {
     "data": {
      "image/png": "[encoded data removed]",
      "text/plain": [
       "<Figure size 576x396 with 1 Axes>"
      ]
     },
     "metadata": {
      "needs_background": "light"
     },
     "output_type": "display_data"
    }
   ],
   "source": [
    "#plotting Bar Chart for Profit by Category\n",
    "sales_record.groupby('Category')[['Profit']].sum().sort_values(by='Profit',ascending=False).plot.bar(figsize=(8,5.5))\n",
    "plt.title('Profit by Category',fontsize=16,fontweight='bold')\n",
    "plt.xlabel('Category',fontsize=14,fontweight='bold')\n",
    "plt.ylabel('Profit',fontsize=14,fontweight='bold')\n",
    "plt.show()\n"
   ]
  },
  {
   "cell_type": "markdown",
   "id": "b36945c1",
   "metadata": {},
   "source": [
    "## The Category that made the most Profit was Snacks, followed closely by Eggs,Meat & Fish."
   ]
  },
  {
   "cell_type": "markdown",
   "id": "75fd4f59",
   "metadata": {},
   "source": [
    "## Task 3B:Which Sub Category was patronized more?"
   ]
  },
  {
   "cell_type": "code",
   "execution_count": 78,
   "id": "4219f100",
   "metadata": {},
   "outputs": [
    {
     "data": {
      "text/html": [
       "<div>\n",
       "<style scoped>\n",
       "    .dataframe tbody tr th:only-of-type {\n",
       "        vertical-align: middle;\n",
       "    }\n",
       "\n",
       "    .dataframe tbody tr th {\n",
       "        vertical-align: top;\n",
       "    }\n",
       "\n",
       "    .dataframe thead th {\n",
       "        text-align: right;\n",
       "    }\n",
       "</style>\n",
       "<table border=\"1\" class=\"dataframe\">\n",
       "  <thead>\n",
       "    <tr style=\"text-align: right;\">\n",
       "      <th></th>\n",
       "      <th>Sub_Category</th>\n",
       "    </tr>\n",
       "    <tr>\n",
       "      <th>Category</th>\n",
       "      <th></th>\n",
       "    </tr>\n",
       "  </thead>\n",
       "  <tbody>\n",
       "    <tr>\n",
       "      <th>Snacks</th>\n",
       "      <td>1514</td>\n",
       "    </tr>\n",
       "    <tr>\n",
       "      <th>Eggs, Meat &amp; Fish</th>\n",
       "      <td>1490</td>\n",
       "    </tr>\n",
       "    <tr>\n",
       "      <th>Fruits &amp; Veggies</th>\n",
       "      <td>1418</td>\n",
       "    </tr>\n",
       "    <tr>\n",
       "      <th>Bakery</th>\n",
       "      <td>1413</td>\n",
       "    </tr>\n",
       "    <tr>\n",
       "      <th>Beverages</th>\n",
       "      <td>1400</td>\n",
       "    </tr>\n",
       "    <tr>\n",
       "      <th>Food Grains</th>\n",
       "      <td>1398</td>\n",
       "    </tr>\n",
       "    <tr>\n",
       "      <th>Oil &amp; Masala</th>\n",
       "      <td>1361</td>\n",
       "    </tr>\n",
       "  </tbody>\n",
       "</table>\n",
       "</div>"
      ],
      "text/plain": [
       "                   Sub_Category\n",
       "Category                       \n",
       "Snacks                     1514\n",
       "Eggs, Meat & Fish          1490\n",
       "Fruits & Veggies           1418\n",
       "Bakery                     1413\n",
       "Beverages                  1400\n",
       "Food Grains                1398\n",
       "Oil & Masala               1361"
      ]
     },
     "execution_count": 78,
     "metadata": {},
     "output_type": "execute_result"
    }
   ],
   "source": [
    "#grouping sub_category by Category\n",
    "sales_record.groupby('Category')[['Sub_Category']].count().sort_values(by='Sub_Category',ascending=False)"
   ]
  },
  {
   "cell_type": "code",
   "execution_count": 115,
   "id": "86e28cb1",
   "metadata": {},
   "outputs": [
    {
     "data": {
      "image/png": "[encoded data removed]",
      "text/plain": [
       "<Figure size 720x720 with 1 Axes>"
      ]
     },
     "metadata": {},
     "output_type": "display_data"
    }
   ],
   "source": [
    "##plotting Pie Chart for Sub_Category by Category\n",
    "sales_record.groupby('Category')[['Sub_Category']].count().plot(kind='pie',figsize=(10,10),subplots=True,legend=True,autopct='%.2f')\n",
    "plt.ylabel(\"\")                                                                                                  \n",
    "plt.title('Most Patronized Category',fontsize=14,fontweight='bold')\n",
    "plt.show()"
   ]
  },
  {
   "cell_type": "markdown",
   "id": "dec586af",
   "metadata": {},
   "source": [
    "## The pie chart shows that Snacks was the most patronized Category with 15.15%"
   ]
  },
  {
   "cell_type": "markdown",
   "id": "73a18a40",
   "metadata": {},
   "source": [
    "## Task5: Who is the most outstanding customer in terms of patronage?"
   ]
  },
  {
   "cell_type": "code",
   "execution_count": 80,
   "id": "20ea34fd",
   "metadata": {},
   "outputs": [
    {
     "data": {
      "image/png": "[encoded data removed]",
      "text/plain": [
       "<Figure size 432x288 with 1 Axes>"
      ]
     },
     "metadata": {
      "needs_background": "light"
     },
     "output_type": "display_data"
    }
   ],
   "source": [
    "sales_record.groupby('Customer_Name')[['Sub_Category']].count().sort_values(by='Sub_Category',ascending=False).head(5).plot.bar()\n",
    "plt.title('Top 5 Customers')\n",
    "plt.show()"
   ]
  },
  {
   "cell_type": "code",
   "execution_count": 90,
   "id": "3be8d0a6",
   "metadata": {},
   "outputs": [],
   "source": [
    "# Converting the date to python date\n",
    "sales_record[\"Order_Date\"]=pd.to_datetime(sales_record[\"Order_Date\"])"
   ]
  },
  {
   "cell_type": "code",
   "execution_count": 94,
   "id": "8b994761",
   "metadata": {},
   "outputs": [],
   "source": [
    "#To find the year in the date and renaming the Order_Date\n",
    "sales_record[\"Year\"] = sales_record[\"Order_Date\"].dt.year"
   ]
  },
  {
   "cell_type": "code",
   "execution_count": 119,
   "id": "dc6ee603",
   "metadata": {},
   "outputs": [
    {
     "data": {
      "image/png": "[encoded data removed]",
      "text/plain": [
       "<Figure size 576x576 with 1 Axes>"
      ]
     },
     "metadata": {},
     "output_type": "display_data"
    }
   ],
   "source": [
    "# Plotting a bar chart\n",
    "sales_record.groupby(\"Year\")[\"Profit\"].mean().plot(kind=\"pie\", autopct='%.2f' ,figsize=(8,8))\n",
    "plt.title(\"Year in which the highest profit was made\", fontweight='bold',)\n",
    "plt.show()"
   ]
  },
  {
   "cell_type": "markdown",
   "id": "0d78fc5b",
   "metadata": {},
   "source": [
    "# The Supermart made the highest profit in year 2016"
   ]
  },
  {
   "cell_type": "markdown",
   "id": "9429b113",
   "metadata": {},
   "source": [
    "## Multivariate Analysis\n",
    "\n",
    "Create charts where you plot more than two variables at a time on a chart. \n",
    "\n",
    "You can use visuals like bar charts, scatter plots and so on.\n",
    "\n",
    "> Explore how to use the `hue` parameter in `seaborn` chart types\n",
    "\n",
    "> **Make sure to put an explanation or interpretation of the chart in a markdown cell after the chart**"
   ]
  },
  {
   "cell_type": "code",
   "execution_count": 81,
   "id": "478de937",
   "metadata": {},
   "outputs": [
    {
     "data": {
      "text/plain": [
       "<AxesSubplot:>"
      ]
     },
     "execution_count": 81,
     "metadata": {},
     "output_type": "execute_result"
    },
    {
     "data": {
      "image/png": "[encoded data removed]",
      "text/plain": [
       "<Figure size 576x576 with 2 Axes>"
      ]
     },
     "metadata": {
      "needs_background": "light"
     },
     "output_type": "display_data"
    }
   ],
   "source": [
    "#multivariate analysis cells\n",
    "# Correlation between sales, profit, and discount\n",
    "\n",
    "plt.figure(figsize=(8,8))\n",
    "sns.heatmap(sales_record.corr(),annot=True)"
   ]
  },
  {
   "cell_type": "markdown",
   "id": "a549382c",
   "metadata": {},
   "source": [
    "## From the chart above we can see that there is positive correlation betwween sales and profit."
   ]
  },
  {
   "cell_type": "code",
   "execution_count": 82,
   "id": "10e02d75",
   "metadata": {},
   "outputs": [],
   "source": [
    "#multivariate analysis cells\n"
   ]
  },
  {
   "cell_type": "code",
   "execution_count": null,
   "id": "afe5e620",
   "metadata": {},
   "outputs": [],
   "source": [
    "#multivariate analysis cells\n"
   ]
  },
  {
   "cell_type": "code",
   "execution_count": null,
   "id": "516a9880",
   "metadata": {},
   "outputs": [],
   "source": [
    "#multivariate analysis cells\n"
   ]
  },
  {
   "cell_type": "markdown",
   "id": "8043cc9d",
   "metadata": {},
   "source": [
    "# The most profit was made in year 2018"
   ]
  },
  {
   "cell_type": "markdown",
   "id": "d84168b0",
   "metadata": {},
   "source": [
    "# Summary\n",
    "\n",
    "In this markdown cell, summarize your list of findings.\n",
    "\n",
    "1. \n",
    "2. \n",
    "3. \n",
    "4. "
   ]
  },
  {
   "cell_type": "code",
   "execution_count": null,
   "id": "0cd1fdaa",
   "metadata": {},
   "outputs": [],
   "source": []
  },
  {
   "cell_type": "code",
   "execution_count": null,
   "id": "2175e05c",
   "metadata": {},
   "outputs": [],
   "source": []
  },
  {
   "cell_type": "code",
   "execution_count": null,
   "id": "011b9895",
   "metadata": {},
   "outputs": [],
   "source": []
  }
 ],
 "metadata": {
  "kernelspec": {
   "display_name": "Python 3 (ipykernel)",
   "language": "python",
   "name": "python3"
  },
  "language_info": {
   "codemirror_mode": {
    "name": "ipython",
    "version": 3
   },
   "file_extension": ".py",
   "mimetype": "text/x-python",
   "name": "python",
   "nbconvert_exporter": "python",
   "pygments_lexer": "ipython3",
   "version": "3.9.12"
  }
 },
 "nbformat": 4,
 "nbformat_minor": 5
}
