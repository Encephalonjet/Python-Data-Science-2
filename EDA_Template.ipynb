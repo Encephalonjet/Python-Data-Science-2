{
 "cells": [
  {
   "cell_type": "markdown",
   "id": "c3bd565c",
   "metadata": {},
   "source": [
    "# Project Title (Supermarket Sales)\n",
    "\n",
    "* Write out the problem statement\n",
    "    \n",
    "* Give a short description of the project\n",
    "    This project is to predict the following;\n",
    "1. If supermarket making profit or not\n",
    "2. Payment type: cash, Ewallet, Credit Card\n",
    "3. Invoice ID: identification of customer\n",
    "4. Time: around what time do customers patronize the supermarket\n",
    "5. Branch: shows where an item is bought\n",
    "6. City: can show how many units were bought, the branch\n",
    "7. Product type: to know which products consumers buy more and the gender\n"
   ]
  },
  {
   "cell_type": "code",
   "execution_count": 1,
   "id": "d8aa5eda",
   "metadata": {},
   "outputs": [],
   "source": [
    "#import python libraries for data manipulation and visualization\n",
    "\n",
    "import pandas as pd\n",
    "import numpy as np\n",
    "\n",
    "#visualization\n",
    "import matplotlib.pyplot as plt\n",
    "import seaborn as sns"
   ]
  },
  {
   "cell_type": "markdown",
   "id": "d6f64705",
   "metadata": {},
   "source": [
    "# Data Inspection\n",
    "\n",
    "* Load the data set\n",
    "* Within a markdown cell, give a description of the dataset:\n",
    "    * what is the source of the data?\n",
    "    * how many rows and columns?\n",
    "    * does it have missing values?\n",
    "    * any other significant details"
   ]
  },
  {
   "cell_type": "code",
   "execution_count": 3,
   "id": "88acc8af",
   "metadata": {},
   "outputs": [],
   "source": [
    "# load the data\n",
    "sales_record = pd.read_csv('supermarket_sales.csv')"
   ]
  },
  {
   "cell_type": "markdown",
   "id": "b3108769",
   "metadata": {},
   "source": [
    "#inspect the data\n",
    "\n",
    "* what is the source of the data?\n",
    "We obtained our dataset from Kaggle, which was one of the methods suggested to us for obtaining datasets.\n",
    "\n",
    "    * how many rows and columns?\n",
    "    Oue dataset has 1000 rows and 17 columns\n",
    "    \n",
    "    * does it have missing values?\n",
    "    No it does not missing values\n",
    "    \n",
    "    * any other significant details\n",
    "    We found that the gross income tallies with the tax and we had to check if this was right by using some simple calculations to as a parameter check."
   ]
  },
  {
   "cell_type": "markdown",
   "id": "a25d8faf",
   "metadata": {},
   "source": [
    "# Data Cleansing\n",
    "\n",
    "In this markdown cell, mention the data cleaning steps you will take. Some of your steps may include\n",
    "* Handling missing values (NaN)\n",
    "* Replacing text\n",
    "* Removing or deleting unnecessary records"
   ]
  },
  {
   "cell_type": "code",
   "execution_count": null,
   "id": "4e455dd8",
   "metadata": {},
   "outputs": [],
   "source": [
    "#data cleasning cells"
   ]
  },
  {
   "cell_type": "code",
   "execution_count": null,
   "id": "357a39ef",
   "metadata": {},
   "outputs": [],
   "source": []
  },
  {
   "cell_type": "code",
   "execution_count": null,
   "id": "919d1ca1",
   "metadata": {},
   "outputs": [],
   "source": []
  },
  {
   "cell_type": "markdown",
   "id": "abc83ce7",
   "metadata": {},
   "source": [
    "# Data Visualization\n",
    "\n",
    "In this section, visualize import relationships in the data set.\n",
    "\n",
    "## Univariate Analysis\n",
    "\n",
    "Create charts where you plot only one variable (column) at a time. \n",
    "\n",
    "You can use simple charts like histograms and boxplots.\n",
    "\n",
    "> For example, use a histogram to plot an age distribution column (if you have one).\n",
    "\n",
    "> **Make sure to put an explanation or interpretation of the chart in a markdown cell after the chart**"
   ]
  },
  {
   "cell_type": "code",
   "execution_count": null,
   "id": "4752556f",
   "metadata": {},
   "outputs": [],
   "source": [
    "#univariate analysis cells\n"
   ]
  },
  {
   "cell_type": "code",
   "execution_count": null,
   "id": "04218ad1",
   "metadata": {},
   "outputs": [],
   "source": [
    "#univariate analysis cells\n"
   ]
  },
  {
   "cell_type": "code",
   "execution_count": null,
   "id": "b5d7c781",
   "metadata": {},
   "outputs": [],
   "source": [
    "#univariate analysis cells\n"
   ]
  },
  {
   "cell_type": "markdown",
   "id": "e37369fa",
   "metadata": {},
   "source": [
    "## Bivariate Analysis\n",
    "\n",
    "Create charts where you plot only two variables at a time on a chart. \n",
    "\n",
    "You can use visuals like bar charts, boxplots, scatter plots and so on.\n",
    "\n",
    "> You can plot variables like age against number of purchases, etc\n",
    "\n",
    "> **Make sure to put an explanation or interpretation of the chart in a markdown cell after the chart**"
   ]
  },
  {
   "cell_type": "code",
   "execution_count": null,
   "id": "61273006",
   "metadata": {},
   "outputs": [],
   "source": [
    "#bivariate analysis cells\n"
   ]
  },
  {
   "cell_type": "code",
   "execution_count": null,
   "id": "b3a6e5a1",
   "metadata": {},
   "outputs": [],
   "source": [
    "#bivariate analysis cells\n"
   ]
  },
  {
   "cell_type": "code",
   "execution_count": null,
   "id": "0e22408b",
   "metadata": {},
   "outputs": [],
   "source": [
    "#bivariate analysis cells\n"
   ]
  },
  {
   "cell_type": "markdown",
   "id": "9429b113",
   "metadata": {},
   "source": [
    "## Multivariate Analysis\n",
    "\n",
    "Create charts where you plot more than two variables at a time on a chart. \n",
    "\n",
    "You can use visuals like bar charts, scatter plots and so on.\n",
    "\n",
    "> Explore how to use the `hue` parameter in `seaborn` chart types\n",
    "\n",
    "> **Make sure to put an explanation or interpretation of the chart in a markdown cell after the chart**"
   ]
  },
  {
   "cell_type": "code",
   "execution_count": null,
   "id": "47bfdea6",
   "metadata": {},
   "outputs": [],
   "source": [
    "#multivariate analysis cells\n"
   ]
  },
  {
   "cell_type": "code",
   "execution_count": null,
   "id": "10e02d75",
   "metadata": {},
   "outputs": [],
   "source": [
    "#multivariate analysis cells\n"
   ]
  },
  {
   "cell_type": "code",
   "execution_count": null,
   "id": "3be8d0a6",
   "metadata": {},
   "outputs": [],
   "source": [
    "#multivariate analysis cells\n"
   ]
  },
  {
   "cell_type": "markdown",
   "id": "d84168b0",
   "metadata": {},
   "source": [
    "# Summary\n",
    "\n",
    "In this markdown cell, summarize your list of findings.\n",
    "\n",
    "1. \n",
    "2. \n",
    "3. \n",
    "4. "
   ]
  },
  {
   "cell_type": "code",
   "execution_count": null,
   "id": "0cd1fdaa",
   "metadata": {},
   "outputs": [],
   "source": []
  }
 ],
 "metadata": {
  "kernelspec": {
   "display_name": "Python 3 (ipykernel)",
   "language": "python",
   "name": "python3"
  },
  "language_info": {
   "codemirror_mode": {
    "name": "ipython",
    "version": 3
   },
   "file_extension": ".py",
   "mimetype": "text/x-python",
   "name": "python",
   "nbconvert_exporter": "python",
   "pygments_lexer": "ipython3",
   "version": "3.9.12"
  }
 },
 "nbformat": 4,
 "nbformat_minor": 5
}
